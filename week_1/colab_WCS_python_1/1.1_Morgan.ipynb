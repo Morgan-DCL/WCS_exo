{
  "nbformat": 4,
  "nbformat_minor": 0,
  "metadata": {
    "colab": {
      "provenance": []
    },
    "kernelspec": {
      "name": "python3",
      "display_name": "Python 3"
    },
    "language_info": {
      "name": "python"
    }
  },
  "cells": [
    {
      "cell_type": "markdown",
      "source": [
        "# Type"
      ],
      "metadata": {
        "id": "p0IY6ccQKu9_"
      }
    },
    {
      "cell_type": "markdown",
      "source": [
        "1. Dans la cellule de code ci-dessous, quel est, pour chaque cellule, le type de l'objet x ?  \n",
        "`indice`: vous pouvez utiliser `type(x)` pour le révéler."
      ],
      "metadata": {
        "id": "chbM0tgeZpEf"
      }
    },
    {
      "cell_type": "markdown",
      "source": [
        "1.1"
      ],
      "metadata": {
        "id": "gw9bORxUJxGm"
      }
    },
    {
      "cell_type": "code",
      "execution_count": null,
      "metadata": {
        "id": "WjJmN0AxZBLw",
        "colab": {
          "base_uri": "https://localhost:8080/"
        },
        "outputId": "089e4330-77ef-4aea-9364-0bc2bfe5e601"
      },
      "outputs": [
        {
          "output_type": "stream",
          "name": "stdout",
          "text": [
            "<class 'int'>\n"
          ]
        }
      ],
      "source": [
        "x = 5\n",
        "print(type(x))\n",
        "# integer"
      ]
    },
    {
      "cell_type": "markdown",
      "source": [
        "1.2"
      ],
      "metadata": {
        "id": "3IfX8iZxJyQ2"
      }
    },
    {
      "cell_type": "code",
      "source": [
        "x = \"Hello World\"\n",
        "print(type(x))\n",
        "# string\n"
      ],
      "metadata": {
        "id": "latNGJ8caLkY",
        "colab": {
          "base_uri": "https://localhost:8080/"
        },
        "outputId": "3bfbc007-df04-4af6-dac9-d955ba9d1b79"
      },
      "execution_count": null,
      "outputs": [
        {
          "output_type": "stream",
          "name": "stdout",
          "text": [
            "<class 'str'>\n"
          ]
        }
      ]
    },
    {
      "cell_type": "markdown",
      "source": [
        "1.3"
      ],
      "metadata": {
        "id": "-Elw3kFRJzKd"
      }
    },
    {
      "cell_type": "code",
      "source": [
        "x = 2.5\n",
        "print(type(x))\n",
        "# float\n"
      ],
      "metadata": {
        "id": "tf7IgsXZa15e",
        "colab": {
          "base_uri": "https://localhost:8080/"
        },
        "outputId": "6a34e01c-7cc0-4d4f-8206-d190450948f0"
      },
      "execution_count": null,
      "outputs": [
        {
          "output_type": "stream",
          "name": "stdout",
          "text": [
            "<class 'float'>\n"
          ]
        }
      ]
    },
    {
      "cell_type": "markdown",
      "source": [
        "1.4"
      ],
      "metadata": {
        "id": "5CJ3Q9qfJ0xJ"
      }
    },
    {
      "cell_type": "code",
      "source": [
        "x = [\"mintcream\", \"burlywood\", \"salmon\"]\n",
        "print(type(x))\n",
        "# liste\n"
      ],
      "metadata": {
        "id": "6YNM6DLHa50P",
        "colab": {
          "base_uri": "https://localhost:8080/"
        },
        "outputId": "fc099ba5-ea19-4b1a-a97b-13eb523d354c"
      },
      "execution_count": null,
      "outputs": [
        {
          "output_type": "stream",
          "name": "stdout",
          "text": [
            "<class 'list'>\n"
          ]
        }
      ]
    },
    {
      "cell_type": "markdown",
      "source": [
        "1.5"
      ],
      "metadata": {
        "id": "E3ro5cT-J1sV"
      }
    },
    {
      "cell_type": "code",
      "source": [
        "x = (\"mintcream\", \"burlywood\", \"salmon\")\n",
        "print(type(x))\n",
        "# tuple"
      ],
      "metadata": {
        "id": "wCaEFel6a-Fd",
        "colab": {
          "base_uri": "https://localhost:8080/"
        },
        "outputId": "50a2db3e-7a84-4418-83dd-7a53ad000b32"
      },
      "execution_count": null,
      "outputs": [
        {
          "output_type": "stream",
          "name": "stdout",
          "text": [
            "<class 'tuple'>\n"
          ]
        }
      ]
    },
    {
      "cell_type": "markdown",
      "source": [
        "1.6"
      ],
      "metadata": {
        "id": "eGBMyBrjJ2xe"
      }
    },
    {
      "cell_type": "code",
      "source": [
        "x = {\"name\": \"Jules César\", \"Job\": \"Musician\", \"age\": 55}\n",
        "print(type(x))\n",
        "# dictionnaire"
      ],
      "metadata": {
        "id": "gO0rMS0ubLkg",
        "colab": {
          "base_uri": "https://localhost:8080/"
        },
        "outputId": "6cb76281-0a1b-477e-9e0f-b19441c74da2"
      },
      "execution_count": null,
      "outputs": [
        {
          "output_type": "stream",
          "name": "stdout",
          "text": [
            "<class 'dict'>\n"
          ]
        }
      ]
    },
    {
      "cell_type": "markdown",
      "source": [
        "1.7"
      ],
      "metadata": {
        "id": "n2IIfrgNJ4Ln"
      }
    },
    {
      "cell_type": "code",
      "source": [
        "x = True\n",
        "print(type(x))\n",
        "# booléen\n"
      ],
      "metadata": {
        "id": "lpPCkWfWbY3N",
        "colab": {
          "base_uri": "https://localhost:8080/"
        },
        "outputId": "ed1fbb47-88e5-436b-a0aa-3441aa1aa097"
      },
      "execution_count": null,
      "outputs": [
        {
          "output_type": "stream",
          "name": "stdout",
          "text": [
            "<class 'bool'>\n"
          ]
        }
      ]
    },
    {
      "cell_type": "markdown",
      "source": [
        "2. Maintenant, vous allez devoir convertir des objets d'un certain type, en un autre type d'objet.  \n",
        "C'est parti !"
      ],
      "metadata": {
        "id": "J-YXtU1Yb2pi"
      }
    },
    {
      "cell_type": "markdown",
      "source": [
        "2.1 Convertissez x en float."
      ],
      "metadata": {
        "id": "yerUe3q7cMmR"
      }
    },
    {
      "cell_type": "code",
      "source": [
        "x = 5\n",
        "x = float(x)\n",
        "print(type(x))"
      ],
      "metadata": {
        "id": "yVs2Ry3NbpEW",
        "colab": {
          "base_uri": "https://localhost:8080/"
        },
        "outputId": "87af5384-6373-4d1d-c19f-524953858a24"
      },
      "execution_count": null,
      "outputs": [
        {
          "output_type": "stream",
          "name": "stdout",
          "text": [
            "<class 'float'>\n"
          ]
        }
      ]
    },
    {
      "cell_type": "markdown",
      "source": [
        "2.2 Convertissez x en int"
      ],
      "metadata": {
        "id": "q0LodnjUcPyl"
      }
    },
    {
      "cell_type": "code",
      "source": [
        "x = 5.4\n",
        "x = int(x)\n",
        "print(x)"
      ],
      "metadata": {
        "id": "0Ffo568UcJBg",
        "colab": {
          "base_uri": "https://localhost:8080/"
        },
        "outputId": "df620c5a-82e2-49da-93a3-7b8db3509f58"
      },
      "execution_count": null,
      "outputs": [
        {
          "output_type": "stream",
          "name": "stdout",
          "text": [
            "5\n"
          ]
        }
      ]
    },
    {
      "cell_type": "markdown",
      "source": [
        "2.3 Convertissez x en int"
      ],
      "metadata": {
        "id": "--gnDHGLcYin"
      }
    },
    {
      "cell_type": "code",
      "source": [
        "x = 5.6\n",
        "x = int(x)\n",
        "print(x)\n"
      ],
      "metadata": {
        "id": "oi21CeBVcTLH",
        "colab": {
          "base_uri": "https://localhost:8080/"
        },
        "outputId": "7fefe7cd-597c-4ae5-c0c1-956ff5839609"
      },
      "execution_count": null,
      "outputs": [
        {
          "output_type": "stream",
          "name": "stdout",
          "text": [
            "5\n"
          ]
        }
      ]
    },
    {
      "cell_type": "markdown",
      "source": [
        "2.4 Que pouvez-vous remarquer ?"
      ],
      "metadata": {
        "id": "ZYsPxH7vcho9"
      }
    },
    {
      "cell_type": "markdown",
      "source": [
        "Réponse: La convertion d'un float en int, arrondi automatiquement."
      ],
      "metadata": {
        "id": "Le9gddo6ckPP"
      }
    },
    {
      "cell_type": "markdown",
      "source": [
        "2.5 Trouvez le moyen d'arrondir x."
      ],
      "metadata": {
        "id": "YmPGqs_FcmZh"
      }
    },
    {
      "cell_type": "code",
      "source": [
        "x = 5.6\n",
        "print(round(x))\n"
      ],
      "metadata": {
        "id": "UUInqFe9cbMJ",
        "colab": {
          "base_uri": "https://localhost:8080/"
        },
        "outputId": "2df7acc0-0a87-40ea-ebef-08f721227e9c"
      },
      "execution_count": null,
      "outputs": [
        {
          "output_type": "stream",
          "name": "stdout",
          "text": [
            "6\n"
          ]
        }
      ]
    },
    {
      "cell_type": "markdown",
      "source": [
        "2.6 Après avoir arrondi x, est-ce que x est toujours un `float` ?  \n",
        "Réponse: oui, la valeur reste un float."
      ],
      "metadata": {
        "id": "OGJ4a9Abc7Jj"
      }
    },
    {
      "cell_type": "markdown",
      "source": [
        "2.7 Ci-dessous, est-ce que x est un `int` ?"
      ],
      "metadata": {
        "id": "deL_WAeRdN8Y"
      }
    },
    {
      "cell_type": "code",
      "source": [
        "x = 6.0\n",
        "# Non, x est un float\n",
        "print(type(x))\n"
      ],
      "metadata": {
        "id": "BZqcem6pcvWh",
        "colab": {
          "base_uri": "https://localhost:8080/"
        },
        "outputId": "10cd0a68-c08b-4bd9-c4d2-a89ce55c8218"
      },
      "execution_count": null,
      "outputs": [
        {
          "output_type": "stream",
          "name": "stdout",
          "text": [
            "<class 'float'>\n"
          ]
        }
      ]
    },
    {
      "cell_type": "markdown",
      "source": [
        "2.8 Arrondissez x avec 3 valeurs décimales."
      ],
      "metadata": {
        "id": "AtfSIpVoda02"
      }
    },
    {
      "cell_type": "code",
      "source": [
        "x = 3.14159265359\n",
        "print(round(x, 3))\n"
      ],
      "metadata": {
        "id": "rqf7z-e6dUYW",
        "colab": {
          "base_uri": "https://localhost:8080/"
        },
        "outputId": "34ce29fb-1bac-4f64-e187-967960282d97"
      },
      "execution_count": null,
      "outputs": [
        {
          "output_type": "stream",
          "name": "stdout",
          "text": [
            "3.142\n"
          ]
        }
      ]
    },
    {
      "cell_type": "markdown",
      "source": [
        "# Built-in Function"
      ],
      "metadata": {
        "id": "JErtlPWEK1Tj"
      }
    },
    {
      "cell_type": "markdown",
      "source": [
        "3.1 Utilisez une [built-in function](https://docs.python.org/3/library/functions.html) pour compter le nombre de lettres dans l'objet de type `string` suivant:"
      ],
      "metadata": {
        "id": "omp-PFHNd9pe"
      }
    },
    {
      "cell_type": "code",
      "source": [
        "x = \"Hello World\"\n",
        "p = x.replace(\" \", \"\")\n",
        "print(len(p))\n"
      ],
      "metadata": {
        "id": "nZbmZIzOdpGy",
        "colab": {
          "base_uri": "https://localhost:8080/"
        },
        "outputId": "e9bca914-4664-49fc-967b-28c0380f9556"
      },
      "execution_count": null,
      "outputs": [
        {
          "output_type": "stream",
          "name": "stdout",
          "text": [
            "10\n"
          ]
        }
      ]
    },
    {
      "cell_type": "code",
      "source": [
        "x = [\"non\", \"pas\", 1, \"ni\", 2, \"ni\", 3, \"mais\", 7.2132]\n",
        "print(len(x))"
      ],
      "metadata": {
        "id": "Xlu7vug7eT19",
        "colab": {
          "base_uri": "https://localhost:8080/"
        },
        "outputId": "403584c1-b15f-45ee-8ba0-729fea65a527"
      },
      "execution_count": null,
      "outputs": [
        {
          "output_type": "stream",
          "name": "stdout",
          "text": [
            "9\n"
          ]
        }
      ]
    },
    {
      "cell_type": "markdown",
      "source": [
        "3.3 Utilisez une built-in function sur une des deux variables pour que `resultat`  contienne une valeur positive."
      ],
      "metadata": {
        "id": "e_y4P_HfO6Sa"
      }
    },
    {
      "cell_type": "code",
      "source": [
        "var_1 = 4\n",
        "var_2 = -5\n",
        "\n",
        "resultat = var_1 + abs(var_2)\n",
        "print(f\"var_1: {var_1}, var_2: {abs(var_2)}, résultat: {resultat}\")"
      ],
      "metadata": {
        "id": "EAiCfX-pO8ag",
        "colab": {
          "base_uri": "https://localhost:8080/"
        },
        "outputId": "9b0c1af4-7ff8-4a17-aa77-8e87e177e9f2"
      },
      "execution_count": null,
      "outputs": [
        {
          "output_type": "stream",
          "name": "stdout",
          "text": [
            "var_1: 4, var_2: 5, résultat: 9\n"
          ]
        }
      ]
    },
    {
      "cell_type": "markdown",
      "source": [
        "3.4 Utilisez une built-in function pour renvoyer la valeur minimum de la `list` suivante:"
      ],
      "metadata": {
        "id": "tpdiCu2TPvVP"
      }
    },
    {
      "cell_type": "code",
      "source": [
        "a_list = [3.2, 41, 2, 23, 7]\n",
        "print(min(a_list))\n"
      ],
      "metadata": {
        "id": "AipGfEYUP4CQ",
        "colab": {
          "base_uri": "https://localhost:8080/"
        },
        "outputId": "135bc2d3-22b9-432d-8c53-aa8bde373a49"
      },
      "execution_count": null,
      "outputs": [
        {
          "output_type": "stream",
          "name": "stdout",
          "text": [
            "2\n"
          ]
        }
      ]
    },
    {
      "cell_type": "markdown",
      "source": [
        "3.5 Utilisez une built-in function pour renvoyer la somme des valeurs de la `list` suivante:"
      ],
      "metadata": {
        "id": "T1wT0YOhQKhL"
      }
    },
    {
      "cell_type": "code",
      "source": [
        "a_list = [3.2, 41, 2, 23, 7]\n",
        "print(sum(a_list))"
      ],
      "metadata": {
        "id": "5uBfLsKyQjgz",
        "colab": {
          "base_uri": "https://localhost:8080/"
        },
        "outputId": "0ce1c42c-e1fb-4ecb-8e07-77ae0bc58e16"
      },
      "execution_count": null,
      "outputs": [
        {
          "output_type": "stream",
          "name": "stdout",
          "text": [
            "76.2\n"
          ]
        }
      ]
    }
  ]
}