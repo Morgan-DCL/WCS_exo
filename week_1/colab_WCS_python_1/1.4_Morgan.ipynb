{
  "cells": [
    {
      "cell_type": "code",
      "execution_count": 6,
      "metadata": {
        "colab": {
          "base_uri": "https://localhost:8080/"
        },
        "id": "LNBiMOHFnD14",
        "outputId": "12d83357-5cb0-4879-94c0-bb7b9d041092"
      },
      "outputs": [
        {
          "name": "stdout",
          "output_type": "stream",
          "text": [
            "Il y a 2 'e' dans la phrase.\n"
          ]
        }
      ],
      "source": [
        "liste = \"Excellent work\"\n",
        "lettre = \"e\"\n",
        "lettre = lettre.lower()\n",
        "compteur_e = 0\n",
        "for phrase in liste:\n",
        "    if lettre in phrase:\n",
        "        compteur_e += phrase.count(lettre)\n",
        "print(\"Il y a {} 'e' dans la phrase.\".format(compteur_e))\n"
      ]
    }
  ],
  "metadata": {
    "colab": {
      "provenance": []
    },
    "kernelspec": {
      "display_name": "Python 3",
      "name": "python3"
    },
    "language_info": {
      "codemirror_mode": {
        "name": "ipython",
        "version": 3
      },
      "file_extension": ".py",
      "mimetype": "text/x-python",
      "name": "python",
      "nbconvert_exporter": "python",
      "pygments_lexer": "ipython3",
      "version": "3.10.11"
    }
  },
  "nbformat": 4,
  "nbformat_minor": 0
}
