{
  "cells": [
    {
      "cell_type": "markdown",
      "metadata": {
        "id": "jDslED5zVTEl"
      },
      "source": [
        "# Classes et modules"
      ]
    },
    {
      "cell_type": "markdown",
      "metadata": {
        "id": "zblYQSNyVYXS"
      },
      "source": [
        "## Documentations des classes"
      ]
    },
    {
      "cell_type": "markdown",
      "metadata": {
        "id": "vwvi0TmasIAh"
      },
      "source": [
        "> * Comme pour les fonctions, pour être utilisable, une classe doit toujours être documentée (proprement svp).\n",
        ">\n",
        "> L'écriture de la documentation d'une classe commence et termine avec trois guillemets \"\"\" , comme pour les fonctions.\n",
        ">\n",
        "> L'intérêt d'une documentation est d'être lue et comprise par d'autres utilisateurs.\n",
        ">>\n",
        ">> Elle peut nous permettre aussi de comprendre l'intérêt d'une méthode que nous avions définie auparavant et **dont on ne se souvient plus de l'utilité**\n"
      ]
    },
    {
      "cell_type": "code",
      "execution_count": 1,
      "metadata": {
        "id": "QSzpx3l2VDkT"
      },
      "outputs": [],
      "source": [
        "class Car:\n",
        "    \"\"\"\n",
        "    La classe Car permet de, presque, construire une voiture.\n",
        "\n",
        "    Paramètres\n",
        "    ----------\n",
        "    color : Chaîne de caractères : Couleur de la voiture.\n",
        "    model : Chaîne de caractères : Modèle de la voiture.\n",
        "    horsepower : Entier : Cylindrée de la voiture.\n",
        "\n",
        "    Exemple\n",
        "    -------\n",
        "    defender = Car(color = \"noir\", model = \"Defender\", horsepower = 150)\n",
        "    \"\"\"\n",
        "def __init__(self, color, model, horsepower):\n",
        "      self.color = color\n",
        "      self.model = model\n",
        "      self.horsepower = horsepower\n",
        "\n",
        "def change_color(self, new_color):\n",
        "      \"\"\"\n",
        "       Modifie la couleur d'une voiture.\n",
        "\n",
        "       Paramètres\n",
        "       ----------\n",
        "       new_color : Chaîne de caractères : Nouvelle couleur de la voiture.\n",
        "       \"\"\"\n",
        "      self.color = new_color"
      ]
    },
    {
      "cell_type": "code",
      "execution_count": 2,
      "metadata": {
        "id": "_uuH_Q9cVJDW"
      },
      "outputs": [
        {
          "name": "stdout",
          "output_type": "stream",
          "text": [
            "Help on class Car in module __main__:\n",
            "\n",
            "class Car(builtins.object)\n",
            " |  La classe Car permet de, presque, construire une voiture.\n",
            " |  \n",
            " |  Paramètres\n",
            " |  ----------\n",
            " |  color : Chaîne de caractères : Couleur de la voiture.\n",
            " |  model : Chaîne de caractères : Modèle de la voiture.\n",
            " |  horsepower : Entier : Cylindrée de la voiture.\n",
            " |  \n",
            " |  Exemple\n",
            " |  -------\n",
            " |  defender = Car(color = \"noir\", model = \"Defender\", horsepower = 150)\n",
            " |  \n",
            " |  Data descriptors defined here:\n",
            " |  \n",
            " |  __dict__\n",
            " |      dictionary for instance variables (if defined)\n",
            " |  \n",
            " |  __weakref__\n",
            " |      list of weak references to the object (if defined)\n",
            "\n"
          ]
        }
      ],
      "source": [
        "help(Car)"
      ]
    },
    {
      "cell_type": "markdown",
      "metadata": {
        "id": "xSXqTSdeovHL"
      },
      "source": [
        "Nous disposons de la liste u = [1, 9, -3, 3, -5, 4, -4, 7, 3, 4, 5, 0, 8, 7, -1, -3, 7, 6, 0, 2].\n",
        "\n",
        "* (a) À l'aide de la fonction help, trouver une méthode de la classe des listes permettant de trier la liste u puis afficher u triée.\n",
        "* (b) Trouver une méthode permettant de supprimer tous les éléments de la liste u."
      ]
    },
    {
      "cell_type": "code",
      "execution_count": 3,
      "metadata": {
        "id": "6YLdTJHzozY9"
      },
      "outputs": [
        {
          "name": "stdout",
          "output_type": "stream",
          "text": [
            "None\n"
          ]
        }
      ],
      "source": [
        "u = [1, 9, -3, 3, -5, 4, -4, 7, 3, 4, 5, 0, 8, 7, -1, -3, 7, 6, 0, 2]\n",
        "# help(list)\n",
        "p = u.sort()\n",
        "p = u.clear()\n",
        "print(p)"
      ]
    },
    {
      "cell_type": "markdown",
      "metadata": {
        "id": "t3LvlxbqVVeA"
      },
      "source": [
        "## Les classes"
      ]
    },
    {
      "cell_type": "markdown",
      "metadata": {
        "id": "JUMYORi-nfSV"
      },
      "source": [
        "> Une classe d'objets contient 3 types d'éléments fondamentaux :\n",
        "\n",
        "* Un constructeur : une fonction qui permet d'initialiser un objet de la classe.\n",
        "* Des attributs : Des variables spécifiques à l'objet crée permettant de définir ses propriétés.\n",
        "* Des méthodes : Des fonctions spécifiques à la classe qui permettent d'interagir avec un objet."
      ]
    },
    {
      "cell_type": "markdown",
      "metadata": {
        "id": "275kt4-0nopt"
      },
      "source": [
        "En vous inspirant de la classe Car définie ci-dessus :\n",
        "\n",
        "* (a) Définir une nouvelle classe `Complexe` à 2 attributs :\n",
        ">* **partie_re** qui contient la partie réelle du Complexe.\n",
        ">\n",
        ">* **partie_im** qui contient la partie imaginaire Complexe.\n",
        "* (b) Définir dans la classe `Complexe` une méthode `afficher` ne prenant pas d'arguments à part `self` permettant d'afficher un `Complexe` sous sa forme algébrique * a+b<sub>i</sub>* où  *a*  est la partie réelle d'un complexe et * b*  sa partie imaginaire.\n",
        "\n",
        "> Il faudra adapter cette méthode au signe de la partie imaginaire (L'affichage devrait donner 4 - 2i, 6 + 2i, 5).\n",
        "\n",
        "(c) Instancier deux `Complexe` correspondant au nombres complexes  4+5i  et  3−2i\n",
        "\n",
        "  puis les afficher avec la méthode afficher."
      ]
    },
    {
      "cell_type": "code",
      "execution_count": 39,
      "metadata": {
        "id": "U1hOaaIinev-"
      },
      "outputs": [
        {
          "name": "stdout",
          "output_type": "stream",
          "text": [
            "4 + 5i\n",
            "3 - 2i\n",
            "False\n"
          ]
        }
      ],
      "source": [
        "import numpy as np\n",
        "\n",
        "class Complexe():\n",
        "    \"\"\"\n",
        "    A class to represent a complex number.\n",
        "\n",
        "    ...\n",
        "\n",
        "    Attributes\n",
        "    ----------\n",
        "    reel : float\n",
        "        The real part of the complex number.\n",
        "    imaginaire : float\n",
        "        The imaginary part of the complex number.\n",
        "\n",
        "    Methods\n",
        "    -------\n",
        "    afficher():\n",
        "        Returns a string representation of the complex number.\n",
        "    \"\"\"\n",
        "\n",
        "    def __init__(self, reel: float, imaginaire: float):\n",
        "        \"\"\"\n",
        "        Constructs all the necessary attributes for the complex number object.\n",
        "\n",
        "        Parameters\n",
        "        ----------\n",
        "        parti_re : float\n",
        "            The real part of the complex number.\n",
        "        partie_im : float\n",
        "            The imaginary part of the complex number.\n",
        "        \"\"\"\n",
        "        self.reel = reel\n",
        "        self.imaginaire = imaginaire\n",
        "\n",
        "    def __str__(self):\n",
        "        if self.imaginaire >= 0:\n",
        "            cmt = f\"{self.reel} + {self.imaginaire}i\"\n",
        "        else:\n",
        "            cmt = f\"{self.reel} - {-self.imaginaire}i\"\n",
        "        return cmt\n",
        "\n",
        "    def afficher(self):\n",
        "        # \"\"\"\n",
        "        # Returns a string representation of the complex number.\n",
        "\n",
        "        # If the imaginary part is positive or zero, it is represented as 'parti_re + partie_im i'.\n",
        "        # If the imaginary part is negative, it is represented as 'parti_re - partie_im i'.\n",
        "\n",
        "        # Returns\n",
        "        # -------\n",
        "        # str\n",
        "        #     A string representation of the complex number.\n",
        "        # \"\"\"\n",
        "        # if self.imaginaire >= 0:\n",
        "        #     cmt = f\"{self.reel} + {self.imaginaire}i\"\n",
        "        # else:\n",
        "        #     cmt = f\"{self.reel} - {-self.imaginaire}i\"\n",
        "        # return cmt\n",
        "        return self.__str__()\n",
        "\n",
        "    def mod(self):\n",
        "        return np.sqrt(self.reel ** 2 + self.imaginaire ** 2)\n",
        "\n",
        "\n",
        "    def __lt__(self, x):\n",
        "        \"\"\"\n",
        "        Retourne strictement inférieur ( lt: less than)\n",
        "\n",
        "        Returns\n",
        "        -------\n",
        "        bool\n",
        "            True or False\n",
        "        \"\"\"\n",
        "        return self.mod() < x.mod()\n",
        "\n",
        "    def __gt__(self, x):\n",
        "        \"\"\"\n",
        "        Retourne strictement supérieur ( gt: greater than)\n",
        "\n",
        "        Returns\n",
        "        -------\n",
        "        bool\n",
        "            True or False\n",
        "        \"\"\"\n",
        "        return self.mod() > x.mod()\n",
        "\n",
        "comp1 = Complexe(4, 5)\n",
        "comp2 = Complexe(3, -2)\n",
        "\n",
        "print(comp1.afficher())\n",
        "print(comp2.afficher())\n",
        "print(comp2.__gt__(comp1))"
      ]
    },
    {
      "cell_type": "markdown",
      "metadata": {
        "id": "fxoEa_VtsyXx"
      },
      "source": [
        "### L'héritage"
      ]
    },
    {
      "cell_type": "markdown",
      "metadata": {
        "id": "niXLJzI9s4Vx"
      },
      "source": [
        "L’héritage consiste à créer une sous-classe à partir d’une classe existante. On dit que cette nouvelle classe hérite de la première car elle aura automatiquement les mêmes attributs et méthodes.\n",
        "\n",
        "\n",
        "---\n",
        "\n",
        "\n",
        "De plus, il est possible d’ajouter des attributs ou des méthodes qui seront spécifiques à cette sous-classe.\n",
        "\n",
        "\n",
        "---\n",
        "\n",
        "\n",
        "Dans la première partie de ce module, nous avons introduit la classe Vehicule définie ainsi:"
      ]
    },
    {
      "cell_type": "markdown",
      "metadata": {
        "id": "2SqIxrp6s6tl"
      },
      "source": [
        "\n",
        "\n",
        "```\n",
        " class Vehicule:\n",
        "    def __init__(self, a, b = []):\n",
        "        self.seats = a   \n",
        "        self.passengers = b  \n",
        "    def print_passengers(self):\n",
        "        for i in range(len(self.passengers)):\n",
        "            print(self.passengers[i])\n",
        "    def add(self,name):\n",
        "            self.passengers.append(name)\n",
        "```\n",
        "\n",
        "Nous pouvons définir une classe Moto qui hérite de la classe Vehicule de la façon suivante:\n",
        "\n",
        "\n",
        "\n",
        "```\n",
        " class Moto(Vehicule):\n",
        "        def __init__(self, b, c):\n",
        "            self.seats = 2\n",
        "            self.passengers = b\n",
        "            self.brand = c\n",
        "moto1 = Moto(['Pierre','Dimitri'], 'Yamaha')\n",
        "```\n",
        "\n",
        "Grâce à l'héritage, nous pouvons faire appel à la méthode print_passengers définie dans la classe Vehicule sur une instance de la classe Moto.\n",
        "\n",
        "* Lancez les cases suivantes pour vous en convaincre.\n"
      ]
    },
    {
      "cell_type": "code",
      "execution_count": 5,
      "metadata": {
        "colab": {
          "base_uri": "https://localhost:8080/"
        },
        "id": "udCmMJpWs6IH",
        "outputId": "4934441e-83ff-4850-d56f-fe24a266fcc0"
      },
      "outputs": [
        {
          "name": "stdout",
          "output_type": "stream",
          "text": [
            "Le véhicule est rempli.\n",
            "Pierre, Dimitri\n"
          ]
        }
      ],
      "source": [
        "class Vehicule:\n",
        "    \"\"\"\n",
        "    Une classe pour représenter un véhicule avec des places et des passagers.\n",
        "\n",
        "    Attributs\n",
        "    ----------\n",
        "    seats : int\n",
        "        Le nombre de places dans le véhicule.\n",
        "    passengers : list\n",
        "        La liste des passagers dans le véhicule.\n",
        "\n",
        "    Méthodes\n",
        "    -------\n",
        "    print_passengers():\n",
        "        Affiche les passagers dans le véhicule.\n",
        "    add(name: str):\n",
        "        Ajoute un passager au véhicule.\n",
        "    \"\"\"\n",
        "\n",
        "    def __init__(self, place_vehicule: int = 4, liste_passager = []):\n",
        "        \"\"\"\n",
        "        Construit tous les attributs nécessaires pour l'objet véhicule.\n",
        "\n",
        "        Paramètres\n",
        "        ----------\n",
        "        place_vehicule : int\n",
        "            Le nombre de places dans le véhicule.\n",
        "        liste_passager : list, optional\n",
        "            La liste des passagers dans le véhicule (par défaut est []).\n",
        "        \"\"\"\n",
        "        self.seats = place_vehicule\n",
        "        self.passengers = liste_passager\n",
        "\n",
        "    def print_passengers(self):\n",
        "        \"\"\"\n",
        "        Affiche les passagers dans le véhicule.\n",
        "        \"\"\"\n",
        "        if len(self.passengers) > 1:\n",
        "            return print(\", \".join(self.passengers))\n",
        "        elif len(self.passengers) == 1:\n",
        "            return self.passengers\n",
        "        else:\n",
        "            print(\"Il n'y a pas de passagers dans le véhicule.\")\n",
        "\n",
        "    def add(self, name):\n",
        "        \"\"\"\n",
        "        Ajoute un passager au véhicule.\n",
        "\n",
        "        Paramètres\n",
        "        ----------\n",
        "        name : str\n",
        "            Le nom du passager à ajouter.\n",
        "\n",
        "        Retourne\n",
        "        -------\n",
        "        None\n",
        "        \"\"\"\n",
        "        full = False\n",
        "        if len(self.passengers) == self.seats:\n",
        "            full = True\n",
        "        elif len(self.passengers) < self.seats:\n",
        "            self.passengers.append(name)\n",
        "        if full:\n",
        "            print(\"La véhicule est rempli\")\n",
        "\n",
        "\n",
        "class Moto(Vehicule):\n",
        "    \"\"\"\n",
        "    Une classe pour représenter une moto, héritée de la classe Véhicule.\n",
        "\n",
        "    Attributs\n",
        "    ----------\n",
        "    seats : int\n",
        "        Le nombre de sièges disponibles sur la moto. Fixé à 2 pour toutes les instances.\n",
        "    passengers : list\n",
        "        La liste des passagers actuels sur la moto.\n",
        "    brand : str\n",
        "        La marque de la moto.\n",
        "\n",
        "    Méthodes\n",
        "    -------\n",
        "    add_passagers(name: str)\n",
        "        Ajoute un passager à la moto si des sièges sont disponibles.\n",
        "    \"\"\"\n",
        "\n",
        "    def __init__(self, passengers, marque):\n",
        "        \"\"\"\n",
        "        Construit tous les attributs nécessaires pour l'objet moto.\n",
        "\n",
        "        Paramètres\n",
        "        ----------\n",
        "        passengers : list\n",
        "            La liste des passagers actuels sur la moto.\n",
        "        marque : str\n",
        "            La marque de la moto.\n",
        "        \"\"\"\n",
        "        self.seats = 2\n",
        "        self.passengers = passengers\n",
        "        self.brand = marque\n",
        "\n",
        "    def add_passagers(self, name):\n",
        "        \"\"\"\n",
        "        Ajoute un passager à la moto si des sièges sont disponibles.\n",
        "\n",
        "        Paramètres\n",
        "        ----------\n",
        "        name : str\n",
        "            Le nom du passager à ajouter.\n",
        "        \"\"\"\n",
        "        if len(self.passengers) >= self.seats:\n",
        "            print(\"Le véhicule est rempli.\")\n",
        "        else:\n",
        "            self.add(name)\n",
        "            print(f\"Place restante {len(self.passengers)- self.seats}\")\n",
        "\n",
        "\n",
        "moto1 = Moto(['Pierre','Dimitri'], 'Yamaha')\n",
        "moto1.add_passagers('Yohann')\n",
        "moto1.print_passengers()"
      ]
    },
    {
      "cell_type": "markdown",
      "metadata": {
        "id": "M0XicQAFtPlX"
      },
      "source": [
        "* Définir dans la classe Moto une méthode add qui ajoutera un nom passé en argument dans la liste des passagers en vérifiant qu'il reste des places disponibles. S'il ne reste pas de places sur la Moto, elle affichera Le véhicule est rempli. S'il en reste, la méthode ajoutera le nom à la liste et affichera le nombre de places restantes."
      ]
    },
    {
      "cell_type": "markdown",
      "metadata": {
        "id": "LAMX1OeXthgB"
      },
      "source": [
        "* Créer une classe `Convoi` qui contiendra 2 attributs: Le premier, nommé `vehicule_list` est une liste d'instances de type Vehicule et le deuxième length est le nombre total de véhicules dans le Convoi. Un convoi sera automatiquement initialisé avec 1 voiture de 4 places sans passagers.\n",
        "\n",
        "\n",
        "* Définir dans la classe `Convoi` une méthode add_vehicule qui ajoutera un objet de type Vehicule à la fin de la liste des véhicules du convoi. Il ne faudra pas oublier de mettre à jour la longueur du convoi."
      ]
    },
    {
      "cell_type": "code",
      "execution_count": 6,
      "metadata": {
        "id": "zjruWDkTs1ej"
      },
      "outputs": [],
      "source": [
        "class Convoi():\n",
        "    \"\"\"\n",
        "    Une classe pour représenter un convoi de véhicules.\n",
        "\n",
        "    Attributs\n",
        "    ----------\n",
        "    vehicule_list : list\n",
        "        Une liste des véhicules dans le convoi.\n",
        "    longeur_convoi : int\n",
        "        La longueur du convoi.\n",
        "\n",
        "    Méthodes\n",
        "    -------\n",
        "    add_vehicule(vehicule: object)\n",
        "        Ajoute un véhicule au convoi.\n",
        "    ajouter_passager(name: str, vehicule_index: int = 0)\n",
        "        Ajoute un passager à un véhicule spécifique dans le convoi.\n",
        "    print__passagers(vehicule_index: int = 0)\n",
        "        Imprime les noms des passagers dans un véhicule spécifique.\n",
        "    \"\"\"\n",
        "    def __init__(self):\n",
        "        \"\"\"\n",
        "        Initialise le convoi avec un véhicule par défaut.\n",
        "        \"\"\"\n",
        "        self.vehicule_list = [Vehicule(4)]\n",
        "        self.longeur_convoi = 1\n",
        "\n",
        "    def add_vehicule(self, vehicule: object):\n",
        "        \"\"\"\n",
        "        Ajoute un véhicule au convoi.\n",
        "\n",
        "        Paramètres\n",
        "        ----------\n",
        "        vehicule : object\n",
        "            Le véhicule à ajouter au convoi.\n",
        "        \"\"\"\n",
        "        if isinstance(vehicule, Vehicule):\n",
        "            self.vehicule_list.append(vehicule)\n",
        "            self.longeur_convoi += 1\n",
        "        else:\n",
        "            print(\"Ce n'est pas un vehicule\")\n",
        "\n",
        "    def ajouter_passager(self, name: str, vehicule_index: int = 0):\n",
        "        \"\"\"\n",
        "        Ajoute un passager à un véhicule spécifique dans le convoi.\n",
        "\n",
        "        Paramètres\n",
        "        ----------\n",
        "        name : str\n",
        "            Le nom du passager à ajouter.\n",
        "        vehicule_index : int, optionnel\n",
        "            L'index du véhicule dans lequel ajouter le passager (par défaut est 0).\n",
        "        \"\"\"\n",
        "        if 0 <= vehicule_index < len(self.vehicule_list):\n",
        "            self.vehicule_list[vehicule_index].add(name)\n",
        "        else:\n",
        "            print(\"Index de véhicule invalide.\")\n",
        "\n",
        "    def print__passagers(self, vehicule_index: int = 0):\n",
        "        \"\"\"\n",
        "        Imprime les noms des passagers dans un véhicule spécifique.\n",
        "\n",
        "        Paramètres\n",
        "        ----------\n",
        "        vehicule_index : int, optionnel\n",
        "            L'index du véhicule dont les passagers doivent être imprimés (par défaut est 0).\n",
        "\n",
        "        Retourne\n",
        "        -------\n",
        "        clean_names : str\n",
        "            Les noms des passagers dans le véhicule spécifié.\n",
        "        \"\"\"\n",
        "        if 0 <= vehicule_index < len(self.vehicule_list):\n",
        "            names = self.vehicule_list[vehicule_index].passengers\n",
        "            if isinstance(names, list):\n",
        "                clean_names = \", \".join(names)\n",
        "            else:\n",
        "                clean_names = names\n",
        "        return clean_names\n",
        "\n",
        "\n",
        "\n",
        "# moto = Moto(2, 2)\n",
        "# vehicule = Vehicule(4)\n",
        "\n",
        "# pop = Convoi()\n",
        "# pop.add_vehicule(vehicule)\n",
        "# pop.add_vehicule(moto)\n",
        "# print(f\"La quantité de véhicule dans mon convoi est de {pop.longeur_convoi} véhicule\")"
      ]
    },
    {
      "cell_type": "markdown",
      "metadata": {
        "id": "vwbakTh8tvzT"
      },
      "source": [
        "* Initialiser une instance convoi1 de la classe Convoi.\n",
        "* Ajoutez le passager \"Albert\" dans le premier véhicule de l'instance convoi1. Il est\n",
        "* Ajoutez une moto de marque \"Honda\" à convoi1 qui sera conduite par \"Raphael\"."
      ]
    },
    {
      "cell_type": "code",
      "execution_count": 7,
      "metadata": {
        "id": "IFXBYL07t3Ud"
      },
      "outputs": [
        {
          "name": "stdout",
          "output_type": "stream",
          "text": [
            "La quantité de véhicule dans mon convoi est de 2 véhicule\n"
          ]
        }
      ],
      "source": [
        "convoi1 = Convoi()\n",
        "convoi1.ajouter_passager('Albert')\n",
        "convoi1.add_vehicule(Moto([\"Raphael\", \"Paul\"], \"Honda\"))\n",
        "print(f\"La quantité de véhicule dans mon convoi est de {convoi1.longeur_convoi} véhicule\")\n"
      ]
    },
    {
      "cell_type": "markdown",
      "metadata": {
        "id": "AytKYS9At9Y0"
      },
      "source": [
        "* Ecrire un petit script qui affichera tous les passagers dans convoi1."
      ]
    },
    {
      "cell_type": "code",
      "execution_count": 8,
      "metadata": {
        "id": "C9QqeZ5ct-jP"
      },
      "outputs": [
        {
          "name": "stdout",
          "output_type": "stream",
          "text": [
            "Les passagers dans le convoi sont Albert et Raphael, Paul\n"
          ]
        }
      ],
      "source": [
        "p1, p2 = convoi1.print__passagers(0), convoi1.print__passagers(1)\n",
        "print(f\"Les passagers dans le convoi sont {p1} et {p2}\")"
      ]
    },
    {
      "cell_type": "markdown",
      "metadata": {
        "id": "iyfu9aByU3X4"
      },
      "source": [
        "* Créez une classe \"Personne\" qui contient les attributs suivants : nom, prénom, âge et adresse email. La classe devrait également avoir les méthodes suivantes :\n",
        "\n",
        "> + Une méthode d'initialisation pour créer une instance de la classe avec les attributs nom, prénom, âge et adresse email.\n",
        ">\n",
        "> + Une méthode \"afficher_infos\" pour afficher les informations de la personne.\n",
        ">\n",
        ">+ Une méthode \"modifier_email\" pour modifier l'adresse email de la personne.\n",
        ">\n",
        ">+ Créez deux instances de la classe \"Personne\" et utilisez les méthodes pour afficher leurs informations, puis modifiez l'adresse email d'une des instances."
      ]
    },
    {
      "cell_type": "code",
      "execution_count": 1,
      "metadata": {},
      "outputs": [
        {
          "name": "stdout",
          "output_type": "stream",
          "text": [
            "--------------------\n",
            "Test dupliqué:\n",
            "Erreur: Morgan Leitao existe déjà dans la DataFrame!\n",
            "--------------------\n",
            "--------------------\n",
            "DataFrame avant mod:\n",
            "      Nom   Prenom  Age                    Email\n",
            "0    Plop   Morrrr   23         testttt@looo.com\n",
            "1  Morgan   Leitao   36  morgan.leitao@gmail.com\n",
            "2    Paul   Dafuck   99   Paul.Dafuck@plplpl.com\n",
            "3   Marie  Pounday   48  Marie.Pounday@matic.com\n",
            "--------------------\n",
            "L'email a bien été modifié pour Paul Dafuck: plpl@mdmdmdmdmd.lol\n",
            "--------------------\n",
            "DataFrame final:\n",
            "      Nom   Prenom  Age                    Email\n",
            "0    Plop   Morrrr   23         testttt@looo.com\n",
            "1  Morgan   Leitao   36  morgan.leitao@gmail.com\n",
            "2    Paul   Dafuck   99      plpl@mdmdmdmdmd.lol\n",
            "3   Marie  Pounday   48  Marie.Pounday@matic.com\n"
          ]
        }
      ],
      "source": [
        "\n",
        "import pandas as pd\n",
        "\n",
        "class Personne:\n",
        "\n",
        "    \"\"\"\n",
        "    Classe pour gérer les informations d'une personne.\n",
        "\n",
        "    Attributs\n",
        "    ----------\n",
        "    data : pd.DataFrame\n",
        "        Un DataFrame pour stocker les informations de toutes les personnes.\n",
        "    nom : str\n",
        "        Le nom de la personne.\n",
        "    prenom : str\n",
        "        Le prénom de la personne.\n",
        "    age : int\n",
        "        L'âge de la personne.\n",
        "    email : str\n",
        "        L'email de la personne.\n",
        "\n",
        "    Méthodes\n",
        "    -------\n",
        "    ajouter_personne()\n",
        "        Ajoute une nouvelle personne à la DataFrame.\n",
        "    check_si_exist()\n",
        "        Vérifie si une personne existe déjà dans la DataFrame.\n",
        "    afficher_infos()\n",
        "        Affiche les informations d'une personne.\n",
        "    get_person_index()\n",
        "        Obtient l'index d'une personne dans la DataFrame.\n",
        "    email_mod()\n",
        "        Modifie l'email d'une personne.\n",
        "    \"\"\"\n",
        "    data: pd.DataFrame = pd.DataFrame(columns=[\"Nom\", \"Prenom\", \"Age\", \"Email\"])\n",
        "\n",
        "    def __init__(self, nom: str, prenom: str, age: int, email: str):\n",
        "        \"\"\"\n",
        "        Initialise une nouvelle instance de la classe Personne.\n",
        "\n",
        "        Paramètres\n",
        "        ----------\n",
        "        nom : str\n",
        "            Le nom de la personne.\n",
        "        prenom : str\n",
        "            Le prénom de la personne.\n",
        "        age : int\n",
        "            L'âge de la personne.\n",
        "        email : str\n",
        "            L'email de la personne.\n",
        "        \"\"\"\n",
        "        self.nom = nom\n",
        "        self.prenom = prenom\n",
        "        self.age = age\n",
        "        self.email = email\n",
        "\n",
        "    def check_conditions(self, check: str = 'Full'):\n",
        "        \"\"\"\n",
        "        Vérification des conditions booléennes.\n",
        "\n",
        "        # Documentation pour expliquer ce que fait la méthode,\n",
        "        # les paramètres qu'elle prend, ce qu'elle retourne,\n",
        "        # et les exceptions qu'elle peut lever.\n",
        "        \"\"\"\n",
        "        map_colonne = {\n",
        "            'Full': ['Prenom', 'Nom', 'Age', 'Email'],\n",
        "            'NoEmail': ['Prenom', 'Nom', 'Age'],\n",
        "            'Other': [],\n",
        "        }\n",
        "\n",
        "        if check not in map_colonne:\n",
        "            raise ValueError(f\"La condition {check} n'existe pas.\")\n",
        "\n",
        "        attr_to_check = map_colonne[check]\n",
        "        condition = pd.Series([True] * len(Personne.data), dtype=bool)\n",
        "\n",
        "        for attr in attr_to_check:\n",
        "            if attr in Personne.data.columns:\n",
        "                condition &= (\n",
        "                    Personne.data[attr] == getattr(self, attr.lower()))\n",
        "\n",
        "        return condition\n",
        "\n",
        "    def ajouter_personne(self):\n",
        "        \"\"\"\n",
        "        Ajoute une nouvelle personne à la DataFrame.\n",
        "        \"\"\"\n",
        "\n",
        "        condition = self.check_conditions(check = 'Full')\n",
        "        if condition.any():\n",
        "            print(f\"Erreur: {self.nom} {self.prenom} existe déjà dans la DataFrame!\")\n",
        "            return\n",
        "\n",
        "        nouveau_user = {\n",
        "            \"Nom\": self.nom,\n",
        "            \"Prenom\": self.prenom,\n",
        "            \"Age\": self.age,\n",
        "            \"Email\": self.email\n",
        "        }\n",
        "        Personne.data.loc[len(Personne.data)] = nouveau_user\n",
        "\n",
        "\n",
        "    def afficher_infos(self):\n",
        "        \"\"\"\n",
        "        Affiche les informations d'une personne.\n",
        "        \"\"\"\n",
        "        condition = self.check_conditions(check='Full')\n",
        "        if condition.any():\n",
        "            person_data = Personne.data[condition]\n",
        "            print(f\"Informations sur {self.nom} {self.prenom}:\")\n",
        "            for i, pers in person_data.iterrows():\n",
        "                print(\n",
        "                    f\"Nom: {pers['Nom']}, Prenom: {pers['Prenom']}, \" +\n",
        "                    f\"Age: {pers['Age']}, Email: {pers['Email']}\"\n",
        "                )\n",
        "\n",
        "\n",
        "    def email_mod(self):\n",
        "        \"\"\"\n",
        "        Modifie l'email d'une personne,\n",
        "        demande à l'utilisateur de rentrer un nouvel email.\n",
        "        \"\"\"\n",
        "\n",
        "        index = Personne.data[self.check_conditions(check = 'NoEmail')].index\n",
        "        if not index.empty:\n",
        "            new_email = str(input(\"Quel est le nouvel email ?\\n\")).lower()\n",
        "            Personne.data.loc[index, \"Email\"] = new_email\n",
        "            print(f\"L'email a bien été modifié pour {self.nom} {self.prenom}: {new_email}\")\n",
        "\n",
        "\n",
        "plop = Personne(\"Plop\", \"Morrrr\", 23, \"testttt@looo.com\")\n",
        "plop.ajouter_personne()\n",
        "# pers1.afficher_infos()\n",
        "\n",
        "morgan = Personne(\"Morgan\", \"Leitao\", 36, \"morgan.leitao@gmail.com\")\n",
        "morgan.ajouter_personne()\n",
        "# pers2.afficher_infos()\n",
        "\n",
        "\n",
        "paul = Personne(\"Paul\", \"Dafuck\", 99, \"Paul.Dafuck@plplpl.com\")\n",
        "paul.ajouter_personne()\n",
        "# pers3.afficher_infos()\n",
        "\n",
        "marie = Personne(\"Marie\", \"Pounday\", 48, \"Marie.Pounday@matic.com\")\n",
        "marie.ajouter_personne()\n",
        "# pers4.afficher_infos()\n",
        "\n",
        "print(\"-\"*20)\n",
        "print(\"Test dupliqué:\")\n",
        "morgan2 = Personne(\"Morgan\", \"Leitao\", 36, \"morgan.leitao@gmail.com\")\n",
        "morgan2.ajouter_personne()\n",
        "print(\"-\"*20)\n",
        "\n",
        "print(\"-\"*20)\n",
        "print(\"DataFrame avant mod:\")\n",
        "print(Personne.data)\n",
        "print(\"-\"*20)\n",
        "\n",
        "paul.email_mod()\n",
        "print(\"-\"*20)\n",
        "\n",
        "print(\"DataFrame final:\")\n",
        "print(Personne.data)\n"
      ]
    },
    {
      "cell_type": "markdown",
      "metadata": {
        "id": "hCBYwPtv0CUx"
      },
      "source": [
        "### Predefined classes"
      ]
    },
    {
      "cell_type": "markdown",
      "metadata": {
        "id": "VxY2c3Pq0TWG"
      },
      "source": [
        "En Python, de nombreuses classes prédéfinies telles que les classes list, tuple ou str sont régulièrement utilisées pour faciliter les tâches du développeur. Comme toutes les autres classes, elles disposent de leurs propres attributs et méthodes qui sont à la disposition de l'utilisateur.\n",
        "\n",
        "\n",
        "\n",
        "---\n",
        "\n",
        "\n",
        "Un des grands intérêts de la programmation orientée objet est de pouvoir créer des classes et les partager avec d'autres développeurs. Ceci se fait grâce à des packages tels que numpy, pandas ou scikit-learn. Tous ces packages sont en fait des classes créées par d'autres développeurs de la communauté Python afin de nous donner des outils qui faciliteront le développement de nos propres algorithmes.\n",
        "\n",
        "\n",
        "---\n",
        "\n",
        "\n",
        "Nous allons dans un premier temps aborder l'une des classes d'objets prédéfinies les plus importantes, la classe list, afin d'apprendre à l'exploiter au maximum de ses capacités.\n",
        "Ensuite, nous introduirons brièvement la classe DataFrame du package pandas et apprendrons à identifier et manipuler ses méthodes."
      ]
    },
    {
      "cell_type": "markdown",
      "metadata": {
        "id": "E9gTsOBX0Vcs"
      },
      "source": [
        "**La classe list**\n",
        "* Utiliser la commande dir(list) pour afficher tous les attributs et méthodes de la classe list."
      ]
    },
    {
      "cell_type": "code",
      "execution_count": null,
      "metadata": {
        "id": "nzDyfA8m0Yo3"
      },
      "outputs": [],
      "source": [
        "dir(list)"
      ]
    },
    {
      "cell_type": "markdown",
      "metadata": {
        "id": "5qU5yzG70df7"
      },
      "source": [
        "* Utiliser la commande help(list) pour afficher la documentation de la classe list. Cette documentation vous sera utile pour comprendre l'utilisation des méthodes d'une classe."
      ]
    },
    {
      "cell_type": "code",
      "execution_count": null,
      "metadata": {
        "id": "S707cS4K0em8"
      },
      "outputs": [],
      "source": [
        "help(list)"
      ]
    },
    {
      "cell_type": "markdown",
      "metadata": {
        "id": "-0DjzHnS0hxV"
      },
      "source": [
        "\n",
        "\n",
        "> Les commandes `dir et help` sont les premières commandes à lancer lorsque vous ne comprenez pas comment utiliser une méthode d'une classe ou lorsque vous ne vous souvenez plus du nom d'une méthode.\n",
        "\n",
        "* À l'aide des commandes dir et help, trouver une méthode qui va inverser l'ordre des éléments de la liste liste_1.\n"
      ]
    },
    {
      "cell_type": "code",
      "execution_count": 12,
      "metadata": {
        "id": "UpOkFVPJ0pw7"
      },
      "outputs": [
        {
          "name": "stdout",
          "output_type": "stream",
          "text": [
            "[9, 8, 7, 6, 5, 4, 3, 2, 1]\n"
          ]
        }
      ],
      "source": [
        "#@title\n",
        "liste_1 = [1, 2, 3, 4, 5, 6, 7, 8, 9]\n",
        "# print(list(reversed(liste_1)))\n",
        "\n",
        "liste_1.reverse()\n",
        "print(liste_1)\n"
      ]
    },
    {
      "cell_type": "markdown",
      "metadata": {
        "id": "NS7rRq1m0uGa"
      },
      "source": [
        "* À l'aide des commandes dir et help, trouver une méthode qui va insérer la valeur 10 en cinquième position de la liste liste_2."
      ]
    },
    {
      "cell_type": "code",
      "execution_count": 13,
      "metadata": {
        "id": "Mkr2r3Mu0v89"
      },
      "outputs": [
        {
          "name": "stdout",
          "output_type": "stream",
          "text": [
            "[1, 2, 3, 4, 5, 10, 6, 7, 8, 9]\n"
          ]
        }
      ],
      "source": [
        "#@title\n",
        "liste_2 = [1, 2, 3, 4, 5, 6, 7, 8, 9]\n",
        "liste_2.insert(5, 10)\n",
        "print(liste_2)"
      ]
    },
    {
      "cell_type": "markdown",
      "metadata": {
        "id": "vfWcH9RP04Rl"
      },
      "source": [
        "* À l'aide des commandes dir et help, trouver une méthode qui va trier la liste liste_3."
      ]
    },
    {
      "cell_type": "code",
      "execution_count": 14,
      "metadata": {
        "id": "99xLKAmv06Dk"
      },
      "outputs": [
        {
          "name": "stdout",
          "output_type": "stream",
          "text": [
            "[1, 2, 3, 4, 5, 6, 7, 8, 9, 10]\n"
          ]
        }
      ],
      "source": [
        "#@title\n",
        "liste_3 = [5, 2, 4, 9, 6, 7, 8, 3, 10, 1]\n",
        "print(sorted(liste_3))"
      ]
    },
    {
      "cell_type": "markdown",
      "metadata": {
        "id": "dRyqmLeX1Az1"
      },
      "source": [
        "**La classe DataFrame**\n",
        "\n",
        "\n",
        "\n",
        "---\n",
        "\n",
        "\n",
        "\n",
        "* Importer le package pandas sous l'alias pd.\n",
        "* Instancier un DataFrame vide grâce au constructeur contenu dans le package pandas. Ce DataFrame portera le nom df."
      ]
    },
    {
      "cell_type": "code",
      "execution_count": 15,
      "metadata": {
        "id": "_bxupCqf1PF1"
      },
      "outputs": [],
      "source": [
        "import pandas as pd\n",
        "\n",
        "df = pd.DataFrame()"
      ]
    },
    {
      "cell_type": "markdown",
      "metadata": {
        "id": "vze-QtxE1Vxg"
      },
      "source": [
        "* En vous aidant de la commande help(pd.DataFrame), construire un DataFrame nommé df1 grâce à la liste liste_4."
      ]
    },
    {
      "cell_type": "code",
      "execution_count": 16,
      "metadata": {
        "id": "t5X6eOWv1WuD"
      },
      "outputs": [
        {
          "name": "stdout",
          "output_type": "stream",
          "text": [
            "   liste_4\n",
            "0      1.0\n",
            "1      5.0\n",
            "2     45.0\n",
            "3     42.0\n",
            "4      NaN\n",
            "5    123.0\n",
            "6   4213.0\n",
            "7      NaN\n",
            "8    213.0\n"
          ]
        }
      ],
      "source": [
        "liste_4 = [1, 5, 45, 42,None, 123, 4213 ,None, 213]\n",
        "\n",
        "df1 = pd.DataFrame(liste_4, columns=[\"liste_4\"])\n",
        "\n",
        "print(df1)"
      ]
    },
    {
      "cell_type": "markdown",
      "metadata": {
        "id": "eUQIsn-q1hRM"
      },
      "source": [
        "En affichant la DataFrame df1, vous pouvez apercevoir que certaines de ses valeurs sont affectées à `NaN`. En pratique, cela arrive très souvent lorsque la base de données est brute. La classe DataFrame contient une méthode très simple pour se débarasser de ces valeurs manquantes : la méthode dropna.\n",
        "\n",
        "* En utilisant la méthode dropna de la classe DataFrame, créer une nouvelle DataFrame nommée df2 qui ne contiendra pas de valeurs manquantes."
      ]
    },
    {
      "cell_type": "code",
      "execution_count": 17,
      "metadata": {
        "id": "Yhz7NqSY1muP"
      },
      "outputs": [
        {
          "data": {
            "text/html": [
              "<div>\n",
              "<style scoped>\n",
              "    .dataframe tbody tr th:only-of-type {\n",
              "        vertical-align: middle;\n",
              "    }\n",
              "\n",
              "    .dataframe tbody tr th {\n",
              "        vertical-align: top;\n",
              "    }\n",
              "\n",
              "    .dataframe thead th {\n",
              "        text-align: right;\n",
              "    }\n",
              "</style>\n",
              "<table border=\"1\" class=\"dataframe\">\n",
              "  <thead>\n",
              "    <tr style=\"text-align: right;\">\n",
              "      <th></th>\n",
              "      <th>liste_4</th>\n",
              "    </tr>\n",
              "  </thead>\n",
              "  <tbody>\n",
              "    <tr>\n",
              "      <th>0</th>\n",
              "      <td>1.0</td>\n",
              "    </tr>\n",
              "    <tr>\n",
              "      <th>1</th>\n",
              "      <td>5.0</td>\n",
              "    </tr>\n",
              "    <tr>\n",
              "      <th>2</th>\n",
              "      <td>45.0</td>\n",
              "    </tr>\n",
              "    <tr>\n",
              "      <th>3</th>\n",
              "      <td>42.0</td>\n",
              "    </tr>\n",
              "    <tr>\n",
              "      <th>5</th>\n",
              "      <td>123.0</td>\n",
              "    </tr>\n",
              "    <tr>\n",
              "      <th>6</th>\n",
              "      <td>4213.0</td>\n",
              "    </tr>\n",
              "    <tr>\n",
              "      <th>8</th>\n",
              "      <td>213.0</td>\n",
              "    </tr>\n",
              "  </tbody>\n",
              "</table>\n",
              "</div>"
            ],
            "text/plain": [
              "   liste_4\n",
              "0      1.0\n",
              "1      5.0\n",
              "2     45.0\n",
              "3     42.0\n",
              "5    123.0\n",
              "6   4213.0\n",
              "8    213.0"
            ]
          },
          "execution_count": 17,
          "metadata": {},
          "output_type": "execute_result"
        }
      ],
      "source": [
        "df1.dropna()"
      ]
    },
    {
      "cell_type": "markdown",
      "metadata": {
        "id": "tCTzADMq1sy0"
      },
      "source": [
        "> Une autre méthode de la classe DataFrame qui est très utilisée est la méthode apply. Cette méthode permet d'appliquer une fonction passée en argument à toutes les cases du DataFrame appelant la méthode.\n",
        "\n",
        "* Définir une fonction divise2 qui retourne la division par 2 de l'argument passé en paramètre.\n",
        "* Créer un DataFrame nommé df3 qui contiendra les valeurs de df2 que l'on aura divisé par 2."
      ]
    },
    {
      "cell_type": "code",
      "execution_count": 18,
      "metadata": {
        "id": "6jR7WjTQ1zWv"
      },
      "outputs": [
        {
          "data": {
            "text/html": [
              "<div>\n",
              "<style scoped>\n",
              "    .dataframe tbody tr th:only-of-type {\n",
              "        vertical-align: middle;\n",
              "    }\n",
              "\n",
              "    .dataframe tbody tr th {\n",
              "        vertical-align: top;\n",
              "    }\n",
              "\n",
              "    .dataframe thead th {\n",
              "        text-align: right;\n",
              "    }\n",
              "</style>\n",
              "<table border=\"1\" class=\"dataframe\">\n",
              "  <thead>\n",
              "    <tr style=\"text-align: right;\">\n",
              "      <th></th>\n",
              "      <th>liste_4</th>\n",
              "    </tr>\n",
              "  </thead>\n",
              "  <tbody>\n",
              "    <tr>\n",
              "      <th>0</th>\n",
              "      <td>0.5</td>\n",
              "    </tr>\n",
              "    <tr>\n",
              "      <th>1</th>\n",
              "      <td>2.5</td>\n",
              "    </tr>\n",
              "    <tr>\n",
              "      <th>2</th>\n",
              "      <td>22.5</td>\n",
              "    </tr>\n",
              "    <tr>\n",
              "      <th>3</th>\n",
              "      <td>21.0</td>\n",
              "    </tr>\n",
              "    <tr>\n",
              "      <th>5</th>\n",
              "      <td>61.5</td>\n",
              "    </tr>\n",
              "    <tr>\n",
              "      <th>6</th>\n",
              "      <td>2106.5</td>\n",
              "    </tr>\n",
              "    <tr>\n",
              "      <th>8</th>\n",
              "      <td>106.5</td>\n",
              "    </tr>\n",
              "  </tbody>\n",
              "</table>\n",
              "</div>"
            ],
            "text/plain": [
              "   liste_4\n",
              "0      0.5\n",
              "1      2.5\n",
              "2     22.5\n",
              "3     21.0\n",
              "5     61.5\n",
              "6   2106.5\n",
              "8    106.5"
            ]
          },
          "execution_count": 18,
          "metadata": {},
          "output_type": "execute_result"
        }
      ],
      "source": [
        "def divise2(x):\n",
        "    return x / 2\n",
        "\n",
        "df3 = df1.apply(divise2).dropna()\n",
        "df3"
      ]
    },
    {
      "cell_type": "markdown",
      "metadata": {
        "id": "6HpaAVtQ2BXO"
      },
      "source": [
        "### Built-in methods\n",
        "\n",
        "\n",
        "\n",
        "---\n",
        "\n",
        "\n",
        "\n",
        "Les classes définies en Python ont des méthodes dont le nom est déja défini. Le premier exemple de méthode de ce type que nous avons vu est la méthode __init__ qui permet d'initialiser un objet, mais ce n'est pas la seule.\n",
        "\n",
        "Ces méthodes donnent à la classe la possibilité d'interagir avec des fonctions Python prédéfinies telles que print, len, help et les opérateurs de bases. Ces méthodes ont en général les affixes __ au début et à la fin de leurs noms, ce qui nous permet de les identifier facilement.\n",
        "\n",
        "+ Grâce à la commande dir(object), nous pouvons avoir un aperçu de quelques méthodes prédéfinies communes à tous les objets Python."
      ]
    },
    {
      "cell_type": "code",
      "execution_count": null,
      "metadata": {
        "id": "qPEa7QCh5_Zs"
      },
      "outputs": [],
      "source": [
        "dir(object)"
      ]
    },
    {
      "cell_type": "markdown",
      "metadata": {
        "id": "_xSzrALz6EFr"
      },
      "source": [
        "**La méthode str**\n",
        "\n",
        "\n",
        "---\n",
        "\n",
        "\n",
        "Une des méthodes les plus pratiques est la méthode __str__ qui est appelée automatiquement lorsque l'utilisateur lance la commande print sur un objet. Cette méthode renvoie une chaîne de caractère qui représente l'objet l'ayant appelé.\n",
        "\n",
        "Toutes les classes en Python sur lesquelles nous pouvons appliquer la fonction print ont cette méthode dans leur définition."
      ]
    },
    {
      "cell_type": "code",
      "execution_count": 20,
      "metadata": {
        "colab": {
          "base_uri": "https://localhost:8080/",
          "height": 35
        },
        "id": "MzzKOV1f6KsI",
        "outputId": "7b2a4cc2-9911-4a52-cac8-af6e6ccc205c"
      },
      "outputs": [
        {
          "data": {
            "text/plain": [
              "'10'"
            ]
          },
          "execution_count": 20,
          "metadata": {},
          "output_type": "execute_result"
        }
      ],
      "source": [
        "# La classe int\n",
        "i = 10\n",
        "i.__str__()"
      ]
    },
    {
      "cell_type": "code",
      "execution_count": 21,
      "metadata": {
        "colab": {
          "base_uri": "https://localhost:8080/",
          "height": 35
        },
        "id": "izspkmA96MWA",
        "outputId": "c3267f62-d7c9-4385-ab2e-b3e69ac1bd6f"
      },
      "outputs": [
        {
          "data": {
            "text/plain": [
              "'[1, 2, 3, 4, 5, 6]'"
            ]
          },
          "execution_count": 21,
          "metadata": {},
          "output_type": "execute_result"
        }
      ],
      "source": [
        "# La classe list\n",
        "\n",
        "tab = [1, 2 , 3, 4, 5, 6]\n",
        "tab.__str__()"
      ]
    },
    {
      "cell_type": "markdown",
      "metadata": {
        "id": "ORTbntFM6SKe"
      },
      "source": [
        "* Définir dans la classe Complexe la méthode __str__ qui doit renvoyer une chaîne de caractères correspondant à la représentation algébrique  a+bi d'un nombre complexe.\n",
        "Cette méthode remplacera la méthode afficher.\n",
        "\n",
        "* Instancier un Complexe correspondant au nombre  6−3i\n",
        "  puis l'afficher sur la console à l'aide de la fonction print."
      ]
    },
    {
      "cell_type": "code",
      "execution_count": 22,
      "metadata": {
        "id": "vrDZ1UxG6ck8"
      },
      "outputs": [
        {
          "data": {
            "text/plain": [
              "'6 + 3i'"
            ]
          },
          "execution_count": 22,
          "metadata": {},
          "output_type": "execute_result"
        }
      ],
      "source": [
        "test = Complexe(6, 3)\n",
        "test.__str__()"
      ]
    },
    {
      "cell_type": "markdown",
      "metadata": {
        "id": "o8cg5d5u7iS6"
      },
      "source": [
        "**Les méthodes de comparaison**\n",
        "\n",
        "\n",
        "\n",
        "---\n",
        "\n",
        "Comme pour les classes int ou float, nous aimerions pouvoir comparer les objets de la classe Complexe entre eux, c'est-à-dire pouvoir utiliser les opérateurs de comparaison (>, <, ==, !=, ...). Pour cela, les développeurs Python ont prévu les méthodes suivantes:\n",
        "\n",
        "\n",
        "\n",
        "```\n",
        "__le__ / __ge__: lesser or equal / greater or equal\n",
        "__lt__ / __gt__: lesser than / greater than\n",
        "__eq__ / __ne__ : equals / not equal\n",
        "```\n",
        "\n",
        "Ces méthodes sont automatiquement appelés lorsque les opérateurs de comparaison sont utilisés et renvoient un booléen (True ou False).\n",
        "\n"
      ]
    },
    {
      "cell_type": "code",
      "execution_count": 23,
      "metadata": {
        "colab": {
          "base_uri": "https://localhost:8080/"
        },
        "id": "l9TzPa6M7p9Z",
        "outputId": "9c7a35fa-2f53-43bc-fe74-7e094a99fa2b"
      },
      "outputs": [
        {
          "name": "stdout",
          "output_type": "stream",
          "text": [
            "True\n",
            "True\n",
            "False\n",
            "False\n"
          ]
        }
      ],
      "source": [
        "x = 5\n",
        "y = 3\n",
        "\n",
        "print(x > y)  # True\n",
        "\n",
        "print(x.__gt__(y)) # True\n",
        "\n",
        "# Ces deux types d'écriture sont strictement équivalents\n",
        "print(x < y) # False\n",
        "\n",
        "print(x.__lt__(y)) # False"
      ]
    },
    {
      "cell_type": "markdown",
      "metadata": {
        "id": "sp2s4UeW7zWf"
      },
      "source": [
        "Pour la classe Complexe, nous allons faire la comparaison grâce au module calculé par la formule  |a+bi|=√(a²+b²)\n",
        "\n",
        "* Définir dans la classe Complexe une méthode mod qui renvoie le module du Complexe appelant la méthode. Vous pourrez utiliser la fonction sqrt du package numpy pour calculer une racine carrée.\n",
        "* Définir dans la classe Complexe les méthodes __lt__ et __gt__ (strictement inférieur et strictement supérieur). Ces méthodes doivent retourner un booléen.\n",
        "* Effectuer les deux comparaisons sur les nombres complexes  3+4i et  2−5i\n",
        "\n"
      ]
    },
    {
      "cell_type": "code",
      "execution_count": 41,
      "metadata": {
        "id": "9rJ3ajYwG4Rs"
      },
      "outputs": [
        {
          "name": "stdout",
          "output_type": "stream",
          "text": [
            "3 + 4i\n",
            "2 - 5i\n",
            "Nombre complexe 1: 3 + 4i\n",
            "Nombre complexe 2: 2 - 5i\n",
            "Module du nombre complexe 1: 5.0\n",
            "Module du nombre complexe 2: 5.385164807134504\n",
            "comp1 < comp2: True\n",
            "comp1 > comp2: False\n"
          ]
        }
      ],
      "source": [
        "\n",
        "comp1 = Complexe(3, 4)\n",
        "comp2 = Complexe(2, -5)\n",
        "\n",
        "print(comp1.afficher())\n",
        "print(comp2.afficher())\n",
        "# print(comp1.__lt__(comp2)) # inférieur\n",
        "# print(comp1.__gt__(comp2)) # supérieur\n",
        "\n",
        "# Tester la classe\n",
        "\n",
        "comp1 = Complexe(3, 4)  # module = 5\n",
        "comp2 = Complexe(2, -5)  # module = √(4 + 25) = √29 ≈ 5.385\n",
        "\n",
        "print(\"Nombre complexe 1:\", comp1.afficher())  # \"3 + 4i\"\n",
        "print(\"Nombre complexe 2:\", comp2.afficher())  # \"2 - 5i\"\n",
        "\n",
        "print(\"Module du nombre complexe 1:\", comp1.mod())  # 5\n",
        "print(\"Module du nombre complexe 2:\", comp2.mod())  # √29\n",
        "\n",
        "# Comparer les deux nombres complexes\n",
        "print(\"comp1 < comp2:\", comp1 < comp2)\n",
        "print(\"comp1 > comp2:\", comp1 > comp2)\n"
      ]
    }
  ],
  "metadata": {
    "colab": {
      "provenance": [],
      "toc_visible": true
    },
    "kernelspec": {
      "display_name": "Python 3",
      "name": "python3"
    },
    "language_info": {
      "codemirror_mode": {
        "name": "ipython",
        "version": 3
      },
      "file_extension": ".py",
      "mimetype": "text/x-python",
      "name": "python",
      "nbconvert_exporter": "python",
      "pygments_lexer": "ipython3",
      "version": "3.10.11"
    }
  },
  "nbformat": 4,
  "nbformat_minor": 0
}
