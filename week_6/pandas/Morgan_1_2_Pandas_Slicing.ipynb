{
  "cells": [
    {
      "cell_type": "markdown",
      "metadata": {
        "id": "vPeraeSVmy3l"
      },
      "source": [
        "# Mission 1\n",
        "\n",
        "Display the following information [for this dataset](https://raw.githubusercontent.com/justmarkham/pandas-videos/master/data/u.user).\n",
        "- The last 5 rows\n",
        "- The first 5 rows\n",
        "- The type of each column\n",
        "\n",
        "Note : start coding something by typing `pd.read_csv()` and explore the different options available, especially the `sep` parameter.\n"
      ]
    },
    {
      "cell_type": "code",
      "execution_count": 1,
      "metadata": {
        "colab": {
          "base_uri": "https://localhost:8080/"
        },
        "id": "hYiMPyQjnDiX",
        "outputId": "9f01f7e9-b9dc-4d14-aa9d-0631297b655d"
      },
      "outputs": [
        {
          "name": "stdout",
          "output_type": "stream",
          "text": [
            "Total lenght df : 943 rows\n",
            "\n",
            "5 first rows :\n",
            "--------------\n",
            "|    |   age | gender   | job_title   |   zipcode |\n",
            "|---:|------:|:---------|:------------|----------:|\n",
            "|  0 |    24 | M        | technician  |     85711 |\n",
            "|  1 |    53 | F        | other       |     94043 |\n",
            "|  2 |    23 | M        | writer      |     32067 |\n",
            "|  3 |    24 | M        | technician  |     43537 |\n",
            "|  4 |    33 | F        | other       |     15213 |\n",
            "\n",
            "5 last rows :\n",
            "--------------\n",
            "|     |   age | gender   | job_title     |   zipcode |\n",
            "|----:|------:|:---------|:--------------|----------:|\n",
            "| 938 |    26 | F        | student       |     33319 |\n",
            "| 939 |    32 | M        | administrator |     02215 |\n",
            "| 940 |    20 | M        | student       |     97229 |\n",
            "| 941 |    48 | F        | librarian     |     78209 |\n",
            "| 942 |    22 | M        | student       |     77841 |\n",
            "\n",
            "Columns Types :\n",
            "--------------\n",
            "|           | 0      |\n",
            "|:----------|:-------|\n",
            "| age       | int64  |\n",
            "| gender    | object |\n",
            "| job_title | object |\n",
            "| zipcode   | object |\n",
            "\n"
          ]
        }
      ],
      "source": [
        "import pandas as pd\n",
        "\n",
        "line = \"https://raw.githubusercontent.com/justmarkham/pandas-videos/master/data/u.user\"\n",
        "\n",
        "col_names = [\n",
        "    \"index\",\n",
        "    \"age\",\n",
        "    \"gender\",\n",
        "    \"job_title\",\n",
        "    \"zipcode\",\n",
        "]\n",
        "\n",
        "df = pd.read_csv(line, sep=\"|\", names=col_names)\n",
        "df.drop(\"index\", axis=1, inplace=True)\n",
        "print(f\"Total lenght df : {len(df)} rows\\n\")\n",
        "print(f\"5 first rows :\\n{'-'*14}\\n{df.head(5).to_markdown()}\\n\")\n",
        "print(f\"5 last rows :\\n{'-'*14}\\n{df.tail(5).to_markdown()}\\n\")\n",
        "print(f\"Columns Types :\\n{'-'*14}\\n{df.dtypes.to_markdown()}\\n\")"
      ]
    },
    {
      "cell_type": "markdown",
      "metadata": {
        "id": "FBZHvmA4m0Hp"
      },
      "source": [
        "# Mission 2\n",
        "\n",
        "Display the first 10 rows [in the following file](https://raw.githubusercontent.com/justmarkham/pandas-videos/master/data/drinks.csv)\n"
      ]
    },
    {
      "cell_type": "code",
      "execution_count": 2,
      "metadata": {
        "colab": {
          "base_uri": "https://localhost:8080/"
        },
        "id": "tEarIThhnjtj",
        "outputId": "1c1a0281-160c-4281-e6f4-35a2f3e50417"
      },
      "outputs": [
        {
          "name": "stdout",
          "output_type": "stream",
          "text": [
            "|    | country           |   beer_servings |   spirit_servings |   wine_servings |   total_litres_of_pure_alcohol | continent     |\n",
            "|---:|:------------------|----------------:|------------------:|----------------:|-------------------------------:|:--------------|\n",
            "|  0 | Afghanistan       |               0 |                 0 |               0 |                            0   | Asia          |\n",
            "|  1 | Albania           |              89 |               132 |              54 |                            4.9 | Europe        |\n",
            "|  2 | Algeria           |              25 |                 0 |              14 |                            0.7 | Africa        |\n",
            "|  3 | Andorra           |             245 |               138 |             312 |                           12.4 | Europe        |\n",
            "|  4 | Angola            |             217 |                57 |              45 |                            5.9 | Africa        |\n",
            "|  5 | Antigua & Barbuda |             102 |               128 |              45 |                            4.9 | North America |\n",
            "|  6 | Argentina         |             193 |                25 |             221 |                            8.3 | South America |\n",
            "|  7 | Armenia           |              21 |               179 |              11 |                            3.8 | Europe        |\n",
            "|  8 | Australia         |             261 |                72 |             212 |                           10.4 | Oceania       |\n",
            "|  9 | Austria           |             279 |                75 |             191 |                            9.7 | Europe        |\n"
          ]
        }
      ],
      "source": [
        "line = \"https://raw.githubusercontent.com/justmarkham/pandas-videos/master/data/drinks.csv\"\n",
        "\n",
        "df = pd.read_csv(line)\n",
        "print(df.head(10).to_markdown())"
      ]
    },
    {
      "cell_type": "markdown",
      "metadata": {
        "id": "GDYdX4GhVqcv"
      },
      "source": [
        "Set the \"country\" column as the index for the dataframe, using `set_index` method."
      ]
    },
    {
      "cell_type": "code",
      "execution_count": 3,
      "metadata": {
        "colab": {
          "base_uri": "https://localhost:8080/",
          "height": 455
        },
        "id": "v6UStsirVonR",
        "outputId": "c7526508-51ed-48e4-d25f-f979844d1c1f"
      },
      "outputs": [
        {
          "data": {
            "text/html": [
              "<div>\n",
              "<style scoped>\n",
              "    .dataframe tbody tr th:only-of-type {\n",
              "        vertical-align: middle;\n",
              "    }\n",
              "\n",
              "    .dataframe tbody tr th {\n",
              "        vertical-align: top;\n",
              "    }\n",
              "\n",
              "    .dataframe thead th {\n",
              "        text-align: right;\n",
              "    }\n",
              "</style>\n",
              "<table border=\"1\" class=\"dataframe\">\n",
              "  <thead>\n",
              "    <tr style=\"text-align: right;\">\n",
              "      <th></th>\n",
              "      <th>beer_servings</th>\n",
              "      <th>spirit_servings</th>\n",
              "      <th>wine_servings</th>\n",
              "      <th>total_litres_of_pure_alcohol</th>\n",
              "      <th>continent</th>\n",
              "    </tr>\n",
              "    <tr>\n",
              "      <th>country</th>\n",
              "      <th></th>\n",
              "      <th></th>\n",
              "      <th></th>\n",
              "      <th></th>\n",
              "      <th></th>\n",
              "    </tr>\n",
              "  </thead>\n",
              "  <tbody>\n",
              "    <tr>\n",
              "      <th>Afghanistan</th>\n",
              "      <td>0</td>\n",
              "      <td>0</td>\n",
              "      <td>0</td>\n",
              "      <td>0.0</td>\n",
              "      <td>Asia</td>\n",
              "    </tr>\n",
              "    <tr>\n",
              "      <th>Albania</th>\n",
              "      <td>89</td>\n",
              "      <td>132</td>\n",
              "      <td>54</td>\n",
              "      <td>4.9</td>\n",
              "      <td>Europe</td>\n",
              "    </tr>\n",
              "    <tr>\n",
              "      <th>Algeria</th>\n",
              "      <td>25</td>\n",
              "      <td>0</td>\n",
              "      <td>14</td>\n",
              "      <td>0.7</td>\n",
              "      <td>Africa</td>\n",
              "    </tr>\n",
              "    <tr>\n",
              "      <th>Andorra</th>\n",
              "      <td>245</td>\n",
              "      <td>138</td>\n",
              "      <td>312</td>\n",
              "      <td>12.4</td>\n",
              "      <td>Europe</td>\n",
              "    </tr>\n",
              "    <tr>\n",
              "      <th>Angola</th>\n",
              "      <td>217</td>\n",
              "      <td>57</td>\n",
              "      <td>45</td>\n",
              "      <td>5.9</td>\n",
              "      <td>Africa</td>\n",
              "    </tr>\n",
              "    <tr>\n",
              "      <th>...</th>\n",
              "      <td>...</td>\n",
              "      <td>...</td>\n",
              "      <td>...</td>\n",
              "      <td>...</td>\n",
              "      <td>...</td>\n",
              "    </tr>\n",
              "    <tr>\n",
              "      <th>Venezuela</th>\n",
              "      <td>333</td>\n",
              "      <td>100</td>\n",
              "      <td>3</td>\n",
              "      <td>7.7</td>\n",
              "      <td>South America</td>\n",
              "    </tr>\n",
              "    <tr>\n",
              "      <th>Vietnam</th>\n",
              "      <td>111</td>\n",
              "      <td>2</td>\n",
              "      <td>1</td>\n",
              "      <td>2.0</td>\n",
              "      <td>Asia</td>\n",
              "    </tr>\n",
              "    <tr>\n",
              "      <th>Yemen</th>\n",
              "      <td>6</td>\n",
              "      <td>0</td>\n",
              "      <td>0</td>\n",
              "      <td>0.1</td>\n",
              "      <td>Asia</td>\n",
              "    </tr>\n",
              "    <tr>\n",
              "      <th>Zambia</th>\n",
              "      <td>32</td>\n",
              "      <td>19</td>\n",
              "      <td>4</td>\n",
              "      <td>2.5</td>\n",
              "      <td>Africa</td>\n",
              "    </tr>\n",
              "    <tr>\n",
              "      <th>Zimbabwe</th>\n",
              "      <td>64</td>\n",
              "      <td>18</td>\n",
              "      <td>4</td>\n",
              "      <td>4.7</td>\n",
              "      <td>Africa</td>\n",
              "    </tr>\n",
              "  </tbody>\n",
              "</table>\n",
              "<p>193 rows × 5 columns</p>\n",
              "</div>"
            ],
            "text/plain": [
              "             beer_servings  spirit_servings  wine_servings  \\\n",
              "country                                                      \n",
              "Afghanistan              0                0              0   \n",
              "Albania                 89              132             54   \n",
              "Algeria                 25                0             14   \n",
              "Andorra                245              138            312   \n",
              "Angola                 217               57             45   \n",
              "...                    ...              ...            ...   \n",
              "Venezuela              333              100              3   \n",
              "Vietnam                111                2              1   \n",
              "Yemen                    6                0              0   \n",
              "Zambia                  32               19              4   \n",
              "Zimbabwe                64               18              4   \n",
              "\n",
              "             total_litres_of_pure_alcohol      continent  \n",
              "country                                                   \n",
              "Afghanistan                           0.0           Asia  \n",
              "Albania                               4.9         Europe  \n",
              "Algeria                               0.7         Africa  \n",
              "Andorra                              12.4         Europe  \n",
              "Angola                                5.9         Africa  \n",
              "...                                   ...            ...  \n",
              "Venezuela                             7.7  South America  \n",
              "Vietnam                               2.0           Asia  \n",
              "Yemen                                 0.1           Asia  \n",
              "Zambia                                2.5         Africa  \n",
              "Zimbabwe                              4.7         Africa  \n",
              "\n",
              "[193 rows x 5 columns]"
            ]
          },
          "execution_count": 3,
          "metadata": {},
          "output_type": "execute_result"
        }
      ],
      "source": [
        "df = df.set_index(\"country\")\n",
        "df"
      ]
    },
    {
      "cell_type": "markdown",
      "metadata": {
        "id": "4c0iWWwbm0J-"
      },
      "source": [
        "# Mission 3\n",
        "\n",
        "Access the values of the row for **Zimbabwe** (use the index value)  "
      ]
    },
    {
      "cell_type": "code",
      "execution_count": 4,
      "metadata": {
        "colab": {
          "base_uri": "https://localhost:8080/"
        },
        "id": "FJfMGNdXq9A4",
        "outputId": "facc1caa-20e7-405e-d8d6-b097b27335df"
      },
      "outputs": [
        {
          "name": "stdout",
          "output_type": "stream",
          "text": [
            "beer_servings                       64\n",
            "spirit_servings                     18\n",
            "wine_servings                        4\n",
            "total_litres_of_pure_alcohol       4.7\n",
            "continent                       Africa\n",
            "Name: Zimbabwe, dtype: object\n"
          ]
        }
      ],
      "source": [
        "zim = df.loc[\"Zimbabwe\"]\n",
        "print(zim)"
      ]
    },
    {
      "cell_type": "markdown",
      "metadata": {
        "id": "U5q4qElxm0MH"
      },
      "source": [
        "# Mision 4\n",
        "\n",
        "Display only the \"continent\" column value for the country **Zimbabwe**."
      ]
    },
    {
      "cell_type": "code",
      "execution_count": 5,
      "metadata": {
        "colab": {
          "base_uri": "https://localhost:8080/"
        },
        "id": "PiIjLs4erHy6",
        "outputId": "1b5c28a7-2c79-474a-cc49-a69b8a1d4275"
      },
      "outputs": [
        {
          "name": "stdout",
          "output_type": "stream",
          "text": [
            "The continent of Zimbabwe is Africa\n"
          ]
        }
      ],
      "source": [
        "print(f\"The continent of {zim.name} is {zim.continent}\")"
      ]
    },
    {
      "cell_type": "markdown",
      "metadata": {
        "id": "jrmdH5LirTPE"
      },
      "source": [
        "# Mission 5\n",
        "\n",
        "Rename the columns [of this dataset](https://raw.githubusercontent.com/justmarkham/pandas-videos/master/data/ufo.csv), try using the following 2 different methods to achieve this:\n",
        "- Setting column names directly when reading the file\n",
        "- Editing after creating the dataframe ([This resource could be useful](https://pandas.pydata.org/pandas-docs/stable/reference/api/pandas.DataFrame.rename.html))"
      ]
    },
    {
      "cell_type": "code",
      "execution_count": 6,
      "metadata": {
        "colab": {
          "base_uri": "https://localhost:8080/"
        },
        "id": "clMCInd-sqHC",
        "outputId": "bd6b6eca-b0ed-4e04-c5b9-6ab0370652ee"
      },
      "outputs": [
        {
          "name": "stdout",
          "output_type": "stream",
          "text": [
            "Method 1 :\n",
            "                     City_m Color_m   Shape_m State_m            Time_m\n",
            "0                    Ithaca     NaN  TRIANGLE      NY    6/1/1930 22:00\n",
            "1               Willingboro     NaN     OTHER      NJ   6/30/1930 20:00\n",
            "2                   Holyoke     NaN      OVAL      CO   2/15/1931 14:00\n",
            "3                   Abilene     NaN      DISK      KS    6/1/1931 13:00\n",
            "4      New York Worlds Fair     NaN     LIGHT      NY   4/18/1933 19:00\n",
            "...                     ...     ...       ...     ...               ...\n",
            "18236            Grant Park     NaN  TRIANGLE      IL  12/31/2000 23:00\n",
            "18237           Spirit Lake     NaN      DISK      IA  12/31/2000 23:00\n",
            "18238           Eagle River     NaN       NaN      WI  12/31/2000 23:45\n",
            "18239           Eagle River     RED     LIGHT      WI  12/31/2000 23:45\n",
            "18240                  Ybor     NaN      OVAL      FL  12/31/2000 23:59\n",
            "\n",
            "[18241 rows x 5 columns]\n",
            "--------------------------------------------------------------------------------\n",
            "Method 2 :\n",
            "                   City_mod Color_mod Shape_mod State_mod          Time_mod\n",
            "0                    Ithaca       NaN  TRIANGLE        NY    6/1/1930 22:00\n",
            "1               Willingboro       NaN     OTHER        NJ   6/30/1930 20:00\n",
            "2                   Holyoke       NaN      OVAL        CO   2/15/1931 14:00\n",
            "3                   Abilene       NaN      DISK        KS    6/1/1931 13:00\n",
            "4      New York Worlds Fair       NaN     LIGHT        NY   4/18/1933 19:00\n",
            "...                     ...       ...       ...       ...               ...\n",
            "18236            Grant Park       NaN  TRIANGLE        IL  12/31/2000 23:00\n",
            "18237           Spirit Lake       NaN      DISK        IA  12/31/2000 23:00\n",
            "18238           Eagle River       NaN       NaN        WI  12/31/2000 23:45\n",
            "18239           Eagle River       RED     LIGHT        WI  12/31/2000 23:45\n",
            "18240                  Ybor       NaN      OVAL        FL  12/31/2000 23:59\n",
            "\n",
            "[18241 rows x 5 columns]\n"
          ]
        }
      ],
      "source": [
        "line = \"https://raw.githubusercontent.com/justmarkham/pandas-videos/master/data/ufo.csv\"\n",
        "\n",
        "col_name = [\n",
        "    \"City_m\",\n",
        "    \"Color_m\",\n",
        "    \"Shape_m\",\n",
        "    \"State_m\",\n",
        "    \"Time_m\"\n",
        "]\n",
        "\n",
        "dfo = pd.read_csv(line, names=col_name, header=0)\n",
        "print(\"Method 1 :\")\n",
        "print(dfo)\n",
        "print(\"-\"*80)\n",
        "\n",
        "new_name = {\n",
        "    \"City_m\" : \"City_mod\",\n",
        "    \"Color_m\" : \"Color_mod\",\n",
        "    \"Shape_m\" : \"Shape_mod\",\n",
        "    \"State_m\" : \"State_mod\",\n",
        "    \"Time_m\" : \"Time_mod\",\n",
        "}\n",
        "\n",
        "dfo.rename(columns=new_name, inplace=True)\n",
        "print(\"Method 2 :\")\n",
        "print(dfo)"
      ]
    },
    {
      "cell_type": "markdown",
      "metadata": {
        "id": "hDeNn--qVyUo"
      },
      "source": [
        "# Mission 6\n",
        "\n",
        "Select the first 3 rows and all the columns of the dataframe using iloc"
      ]
    },
    {
      "cell_type": "code",
      "execution_count": 7,
      "metadata": {
        "colab": {
          "base_uri": "https://localhost:8080/",
          "height": 144
        },
        "id": "weMAN0jeWSsy",
        "outputId": "9bbbd389-6ba6-4de5-97f8-55c1506168f3"
      },
      "outputs": [
        {
          "data": {
            "text/html": [
              "<div>\n",
              "<style scoped>\n",
              "    .dataframe tbody tr th:only-of-type {\n",
              "        vertical-align: middle;\n",
              "    }\n",
              "\n",
              "    .dataframe tbody tr th {\n",
              "        vertical-align: top;\n",
              "    }\n",
              "\n",
              "    .dataframe thead th {\n",
              "        text-align: right;\n",
              "    }\n",
              "</style>\n",
              "<table border=\"1\" class=\"dataframe\">\n",
              "  <thead>\n",
              "    <tr style=\"text-align: right;\">\n",
              "      <th></th>\n",
              "      <th>City_mod</th>\n",
              "      <th>Color_mod</th>\n",
              "      <th>Shape_mod</th>\n",
              "      <th>State_mod</th>\n",
              "      <th>Time_mod</th>\n",
              "    </tr>\n",
              "  </thead>\n",
              "  <tbody>\n",
              "    <tr>\n",
              "      <th>0</th>\n",
              "      <td>Ithaca</td>\n",
              "      <td>NaN</td>\n",
              "      <td>TRIANGLE</td>\n",
              "      <td>NY</td>\n",
              "      <td>6/1/1930 22:00</td>\n",
              "    </tr>\n",
              "    <tr>\n",
              "      <th>1</th>\n",
              "      <td>Willingboro</td>\n",
              "      <td>NaN</td>\n",
              "      <td>OTHER</td>\n",
              "      <td>NJ</td>\n",
              "      <td>6/30/1930 20:00</td>\n",
              "    </tr>\n",
              "    <tr>\n",
              "      <th>2</th>\n",
              "      <td>Holyoke</td>\n",
              "      <td>NaN</td>\n",
              "      <td>OVAL</td>\n",
              "      <td>CO</td>\n",
              "      <td>2/15/1931 14:00</td>\n",
              "    </tr>\n",
              "  </tbody>\n",
              "</table>\n",
              "</div>"
            ],
            "text/plain": [
              "      City_mod Color_mod Shape_mod State_mod         Time_mod\n",
              "0       Ithaca       NaN  TRIANGLE        NY   6/1/1930 22:00\n",
              "1  Willingboro       NaN     OTHER        NJ  6/30/1930 20:00\n",
              "2      Holyoke       NaN      OVAL        CO  2/15/1931 14:00"
            ]
          },
          "execution_count": 7,
          "metadata": {},
          "output_type": "execute_result"
        }
      ],
      "source": [
        "dfo.iloc[: 3]"
      ]
    },
    {
      "cell_type": "markdown",
      "metadata": {
        "id": "eGVlIK-KWSBh"
      },
      "source": [
        "# Mission 7\n",
        "\n",
        "Achieve the same result as in mission 6 by using loc"
      ]
    },
    {
      "cell_type": "code",
      "execution_count": 8,
      "metadata": {
        "colab": {
          "base_uri": "https://localhost:8080/",
          "height": 144
        },
        "id": "W9WC9f5CWWfz",
        "outputId": "73d7ea7d-7fcf-4c97-a2d4-60ff06f1716f"
      },
      "outputs": [
        {
          "data": {
            "text/html": [
              "<div>\n",
              "<style scoped>\n",
              "    .dataframe tbody tr th:only-of-type {\n",
              "        vertical-align: middle;\n",
              "    }\n",
              "\n",
              "    .dataframe tbody tr th {\n",
              "        vertical-align: top;\n",
              "    }\n",
              "\n",
              "    .dataframe thead th {\n",
              "        text-align: right;\n",
              "    }\n",
              "</style>\n",
              "<table border=\"1\" class=\"dataframe\">\n",
              "  <thead>\n",
              "    <tr style=\"text-align: right;\">\n",
              "      <th></th>\n",
              "      <th>City_mod</th>\n",
              "      <th>Color_mod</th>\n",
              "      <th>Shape_mod</th>\n",
              "      <th>State_mod</th>\n",
              "      <th>Time_mod</th>\n",
              "    </tr>\n",
              "  </thead>\n",
              "  <tbody>\n",
              "    <tr>\n",
              "      <th>0</th>\n",
              "      <td>Ithaca</td>\n",
              "      <td>NaN</td>\n",
              "      <td>TRIANGLE</td>\n",
              "      <td>NY</td>\n",
              "      <td>6/1/1930 22:00</td>\n",
              "    </tr>\n",
              "    <tr>\n",
              "      <th>1</th>\n",
              "      <td>Willingboro</td>\n",
              "      <td>NaN</td>\n",
              "      <td>OTHER</td>\n",
              "      <td>NJ</td>\n",
              "      <td>6/30/1930 20:00</td>\n",
              "    </tr>\n",
              "    <tr>\n",
              "      <th>2</th>\n",
              "      <td>Holyoke</td>\n",
              "      <td>NaN</td>\n",
              "      <td>OVAL</td>\n",
              "      <td>CO</td>\n",
              "      <td>2/15/1931 14:00</td>\n",
              "    </tr>\n",
              "  </tbody>\n",
              "</table>\n",
              "</div>"
            ],
            "text/plain": [
              "      City_mod Color_mod Shape_mod State_mod         Time_mod\n",
              "0       Ithaca       NaN  TRIANGLE        NY   6/1/1930 22:00\n",
              "1  Willingboro       NaN     OTHER        NJ  6/30/1930 20:00\n",
              "2      Holyoke       NaN      OVAL        CO  2/15/1931 14:00"
            ]
          },
          "execution_count": 8,
          "metadata": {},
          "output_type": "execute_result"
        }
      ],
      "source": [
        "dfo.loc[: 2]"
      ]
    }
  ],
  "metadata": {
    "colab": {
      "provenance": []
    },
    "kernelspec": {
      "display_name": "Python 3",
      "name": "python3"
    },
    "language_info": {
      "codemirror_mode": {
        "name": "ipython",
        "version": 3
      },
      "file_extension": ".py",
      "mimetype": "text/x-python",
      "name": "python",
      "nbconvert_exporter": "python",
      "pygments_lexer": "ipython3",
      "version": "3.10.11"
    }
  },
  "nbformat": 4,
  "nbformat_minor": 0
}
