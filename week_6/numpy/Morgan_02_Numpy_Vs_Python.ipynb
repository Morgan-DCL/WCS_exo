{
  "nbformat": 4,
  "nbformat_minor": 0,
  "metadata": {
    "colab": {
      "provenance": []
    },
    "kernelspec": {
      "name": "python3",
      "display_name": "Python 3"
    },
    "language_info": {
      "name": "python"
    }
  },
  "cells": [
    {
      "cell_type": "markdown",
      "source": [
        "## Vectorized operations"
      ],
      "metadata": {
        "id": "8msPqS8imUVt"
      }
    },
    {
      "cell_type": "markdown",
      "source": [
        "As you could see in the quest, one of the great strengths of Numpy are the vectorized operations. Numpy will not perform loops to do calculations, but rather perform operations in parallel.   \n",
        "You can look at it this way:  \n",
        "* Python --> loop --> serial (actions one after the other)\n",
        "* Numpy --> vectorized operation --> in parallel (actions next to each other)"
      ],
      "metadata": {
        "id": "3UxDqS97mXiv"
      }
    },
    {
      "cell_type": "markdown",
      "source": [
        "# Mission 1"
      ],
      "metadata": {
        "id": "jPO68Q9pnUIy"
      }
    },
    {
      "cell_type": "markdown",
      "source": [
        "Considering the object below, we want to calculate the sum for each row.  \n",
        "That is, return the sum of `12 + 5`, then `8 + 32` etc...  \n",
        "Find a way to return the sums of the 4 rows in a list, coding in Python. You must have 4 values in this list."
      ],
      "metadata": {
        "id": "4WffbDfcnwkZ"
      }
    },
    {
      "cell_type": "code",
      "source": [
        "import numpy as np"
      ],
      "metadata": {
        "id": "RVG8G4GCiS5k"
      },
      "execution_count": null,
      "outputs": []
    },
    {
      "cell_type": "code",
      "source": [
        "my_list = np.array([\n",
        "        [12,5],\n",
        "        [8,32],\n",
        "        [25,6],\n",
        "        [7,14]\n",
        "])\n",
        "\n",
        "np_plus = [i[0] + i[1] for i in my_list]\n",
        "np_plus"
      ],
      "metadata": {
        "id": "Rkvky1nUmHj_",
        "colab": {
          "base_uri": "https://localhost:8080/"
        },
        "outputId": "0038cbba-cb91-4889-afc3-2356c4baed94"
      },
      "execution_count": null,
      "outputs": [
        {
          "output_type": "execute_result",
          "data": {
            "text/plain": [
              "[17, 40, 31, 21]"
            ]
          },
          "metadata": {},
          "execution_count": 3
        }
      ]
    },
    {
      "cell_type": "markdown",
      "source": [
        "Now do the same thing, but this time coding in `Numpy`.  \n",
        "`index`: You must first convert `my_list` to ndarray."
      ],
      "metadata": {
        "id": "L3WVhtI_oU6S"
      }
    },
    {
      "cell_type": "code",
      "source": [
        "my_list_row = np.sum(np.array(my_list), axis=1) # np.array n'est pas utile, il convertit la liste en array en utilisant np.sum\n",
        "my_list_row"
      ],
      "metadata": {
        "id": "HIv2CRVRob-Y",
        "colab": {
          "base_uri": "https://localhost:8080/"
        },
        "outputId": "729d1c9f-c2e2-46b8-8e1e-54487e07eb46"
      },
      "execution_count": null,
      "outputs": [
        {
          "output_type": "execute_result",
          "data": {
            "text/plain": [
              "array([17, 40, 31, 21])"
            ]
          },
          "metadata": {},
          "execution_count": 4
        }
      ]
    },
    {
      "cell_type": "markdown",
      "source": [
        "# Mission 2"
      ],
      "metadata": {
        "id": "hcIV_9nypVg7"
      }
    },
    {
      "cell_type": "markdown",
      "source": [
        "Find a way to return the sums of the 2 columns in a list, by coding in Python. You must have 2 values in this list."
      ],
      "metadata": {
        "id": "uEawd8a9pbrH"
      }
    },
    {
      "cell_type": "code",
      "source": [
        "my_list = [\n",
        "        [12,5],\n",
        "        [8,32],\n",
        "        [25,6],\n",
        "        [7,14]\n",
        "]\n",
        "\n",
        "first_col = sum([i[0] for i in my_list])\n",
        "second_col = sum([i[1] for i in my_list])\n",
        "print(f\"Sum of first columns {first_col} | Second columns {second_col}\")\n"
      ],
      "metadata": {
        "id": "Pfvwbn-kpXEw",
        "colab": {
          "base_uri": "https://localhost:8080/"
        },
        "outputId": "19e15599-4c30-4fe1-acda-1d407c6f7d44"
      },
      "execution_count": null,
      "outputs": [
        {
          "output_type": "stream",
          "name": "stdout",
          "text": [
            "Sum of first columns 52 | Second columns 57\n"
          ]
        }
      ]
    },
    {
      "cell_type": "markdown",
      "source": [
        "Now do the same thing, but coding this time in Numpy.  \n",
        "This time you have to propose 2 different solutions, coding in Numpy each time.\n"
      ],
      "metadata": {
        "id": "aj-Vz9hRqhqH"
      }
    },
    {
      "cell_type": "code",
      "source": [
        "my_list = [\n",
        "        [12,5],\n",
        "        [8,32],\n",
        "        [25,6],\n",
        "        [7,14]\n",
        "]\n",
        "\n",
        "my_list_col = np.sum(my_list, axis=0)\n",
        "print(my_list_col)\n",
        "\n",
        "# or\n",
        "print(\"-\"*20)\n",
        "cum_sum = np.cumsum(my_list, axis=0)\n",
        "print(cum_sum[-1])"
      ],
      "metadata": {
        "id": "pSTnC3PkqlXB",
        "colab": {
          "base_uri": "https://localhost:8080/"
        },
        "outputId": "a2e38cbd-63cd-44e8-aac0-775e4ffa1ebd"
      },
      "execution_count": null,
      "outputs": [
        {
          "output_type": "stream",
          "name": "stdout",
          "text": [
            "[52 57]\n",
            "--------------------\n",
            "[52 57]\n"
          ]
        }
      ]
    },
    {
      "cell_type": "markdown",
      "source": [
        "# Mission 3"
      ],
      "metadata": {
        "id": "hjEZwMBirvL0"
      }
    },
    {
      "cell_type": "markdown",
      "source": [
        "This time, you will have to return the sum of all the elements included in the object below, coding in `Python`."
      ],
      "metadata": {
        "id": "5gNu1KM8r03j"
      }
    },
    {
      "cell_type": "code",
      "source": [
        "my_list = [\n",
        "        [12,5],\n",
        "        [8,32],\n",
        "        [25,6],\n",
        "        [7,14]\n",
        "]\n",
        "\n",
        "sum_ = sum([i for j in my_list for i in j])\n",
        "print(sum_)\n"
      ],
      "metadata": {
        "id": "lkJFTJucr0Nz"
      },
      "execution_count": null,
      "outputs": []
    },
    {
      "cell_type": "markdown",
      "source": [
        "As you might expect, you'll have to do this by coding in Numpy.\n",
        "You can propose only one solution. There is a very simple one, and a very effective one too."
      ],
      "metadata": {
        "id": "OpdM8v4vsSvq"
      }
    },
    {
      "cell_type": "code",
      "source": [
        "my_list = [\n",
        "        [12,5],\n",
        "        [8,32],\n",
        "        [25,6],\n",
        "        [7,14]\n",
        "]\n",
        "\n",
        "np_sum = np.sum(my_list)\n",
        "np_sum"
      ],
      "metadata": {
        "id": "BWVIH2GAuw_M"
      },
      "execution_count": null,
      "outputs": []
    },
    {
      "cell_type": "markdown",
      "source": [
        "# Mission 4"
      ],
      "metadata": {
        "id": "sJGBP8XmvNK-"
      }
    },
    {
      "cell_type": "markdown",
      "source": [
        "Find a way to calculate the following statistical indicators using NumPy functions on the array bellow.\n",
        "- mode\n",
        "- median\n",
        "- average\n",
        "- the range (the difference between max and min)\n",
        "- standard deviation\n",
        "- variance\n",
        "- the different quantiles\n",
        "\n"
      ],
      "metadata": {
        "id": "w6341JpRmDqw"
      }
    },
    {
      "cell_type": "code",
      "execution_count": null,
      "metadata": {
        "id": "yXL0siorlg_b"
      },
      "outputs": [],
      "source": [
        "array = [5, 34, 74, 65, 98, 81, 34, 61, 9, 4, 27, 42, 42, 78, 34, 59, 56, 82, 55, 63]\n",
        "\n",
        "# mode\n",
        "mode = np.bincount(array).argmax()\n",
        "print(f\"mode : {mode}\")\n",
        "\n",
        "# median\n",
        "mean_ = np.median(array)\n",
        "print(f\"median : {mean_}\")\n",
        "\n",
        "# average\n",
        "ave_ = np.mean(array)\n",
        "print(f\"mean_ : {ave_}\")\n",
        "\n",
        "# the range (the difference between max and min)\n",
        "range_ = np.max(array) - np.min(array)\n",
        "print(f\"range : {range_}\")\n",
        "\n",
        "# standard deviation\n",
        "std_ = np.std(array)\n",
        "print(f\"std : {round(std_, 2)}\")\n",
        "\n",
        "# variance\n",
        "var_ = np.var(array)\n",
        "print(f\"var_ : {round(var_, 2)}\")\n",
        "\n",
        "# the different quantiles\n",
        "quantiles = np.quantile(array, [0, 0.25, 0.5, 0.75, 1])\n",
        "print(f\"quantiles : {quantiles}\")\n"
      ]
    }
  ]
}