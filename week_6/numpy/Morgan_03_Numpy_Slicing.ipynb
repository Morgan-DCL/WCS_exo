{
  "nbformat": 4,
  "nbformat_minor": 0,
  "metadata": {
    "colab": {
      "provenance": []
    },
    "kernelspec": {
      "name": "python3",
      "display_name": "Python 3"
    },
    "language_info": {
      "name": "python"
    }
  },
  "cells": [
    {
      "cell_type": "code",
      "execution_count": null,
      "metadata": {
        "id": "oAgzIe8SHxxF"
      },
      "outputs": [],
      "source": [
        "import numpy as np\n"
      ]
    },
    {
      "cell_type": "markdown",
      "source": [
        "Execute the cell below before starting the 1st mission."
      ],
      "metadata": {
        "id": "B2WKsy0JKfwk"
      }
    },
    {
      "cell_type": "code",
      "source": [
        "array_1 = np.array([10, 40, 45,  5, 66, 91, 43, 75, 40, 28, 55, 45, 31, 71, 67, 54, 54,\n",
        "       35, 64, 27, 12, 93, 17, 91, 50, 57, 74, 61, 86, 20, 36, 35])\n",
        "\n",
        "array_1"
      ],
      "metadata": {
        "colab": {
          "base_uri": "https://localhost:8080/"
        },
        "id": "v301-QT9KHHn",
        "outputId": "bf5f23d2-adf6-44c8-92b4-4e84d2d2c3ca"
      },
      "execution_count": null,
      "outputs": [
        {
          "output_type": "execute_result",
          "data": {
            "text/plain": [
              "array([10, 40, 45,  5, 66, 91, 43, 75, 40, 28, 55, 45, 31, 71, 67, 54, 54,\n",
              "       35, 64, 27, 12, 93, 17, 91, 50, 57, 74, 61, 86, 20, 36, 35])"
            ]
          },
          "metadata": {},
          "execution_count": 3
        }
      ]
    },
    {
      "cell_type": "markdown",
      "source": [
        "# Mission 1"
      ],
      "metadata": {
        "id": "ZAXuwsahKkiR"
      }
    },
    {
      "cell_type": "markdown",
      "source": [
        "Using Numpy, how many axes `array_1` has ?\n",
        "\n",
        "\n"
      ],
      "metadata": {
        "id": "yrkLENtQKpNb"
      }
    },
    {
      "cell_type": "code",
      "source": [
        "print(\"Le nombre d'axes du array est de\", array_1.ndim)"
      ],
      "metadata": {
        "id": "HQP8v-MrgELK",
        "colab": {
          "base_uri": "https://localhost:8080/"
        },
        "outputId": "03f2471d-1653-431f-dbec-4a626df87dc9"
      },
      "execution_count": null,
      "outputs": [
        {
          "output_type": "stream",
          "name": "stdout",
          "text": [
            "Le nombre d'axes du array est de 1\n"
          ]
        }
      ]
    },
    {
      "cell_type": "markdown",
      "source": [
        "Still using Numpy, how many dimensions `array_1` has?"
      ],
      "metadata": {
        "id": "UalGJQxz33yA"
      }
    },
    {
      "cell_type": "code",
      "source": [
        "print(\"La dimension du array est de\", array_1.ndim)"
      ],
      "metadata": {
        "id": "y26JYHgCgJqT",
        "colab": {
          "base_uri": "https://localhost:8080/"
        },
        "outputId": "c8480d5d-695d-43b1-ddb9-c8c0eed5835b"
      },
      "execution_count": null,
      "outputs": [
        {
          "output_type": "stream",
          "name": "stdout",
          "text": [
            "La dimension du array est de 1\n"
          ]
        }
      ]
    },
    {
      "cell_type": "markdown",
      "source": [
        "Display the first element of `array_1`"
      ],
      "metadata": {
        "id": "FigiIh9o4PZ2"
      }
    },
    {
      "cell_type": "code",
      "source": [
        "print(\"First ele of array is\", array_1[0])"
      ],
      "metadata": {
        "id": "baOmyxdDgNh-",
        "colab": {
          "base_uri": "https://localhost:8080/"
        },
        "outputId": "4edc65f6-6164-421a-cbf7-d93dea8ebc95"
      },
      "execution_count": null,
      "outputs": [
        {
          "output_type": "stream",
          "name": "stdout",
          "text": [
            "First ele of array is 10\n"
          ]
        }
      ]
    },
    {
      "cell_type": "markdown",
      "source": [
        "# Mission 2"
      ],
      "metadata": {
        "id": "XgHAtDey4ecq"
      }
    },
    {
      "cell_type": "markdown",
      "source": [
        "Modify, using a `numpy` method, the `array_1` object to be an object that has two axes, including 1 row and 32 columns.  \n",
        "Save it under the variable `array_2`."
      ],
      "metadata": {
        "id": "jiooiSHv4f-u"
      }
    },
    {
      "cell_type": "code",
      "source": [
        "array_2 = array_1.reshape(1, 32)\n",
        "array_2"
      ],
      "metadata": {
        "id": "IV96vGr0gPNH",
        "colab": {
          "base_uri": "https://localhost:8080/"
        },
        "outputId": "a69b987d-cf1d-4473-bc3a-82752350b5da"
      },
      "execution_count": null,
      "outputs": [
        {
          "output_type": "execute_result",
          "data": {
            "text/plain": [
              "array([[10, 40, 45,  5, 66, 91, 43, 75, 40, 28, 55, 45, 31, 71, 67, 54,\n",
              "        54, 35, 64, 27, 12, 93, 17, 91, 50, 57, 74, 61, 86, 20, 36, 35]])"
            ]
          },
          "metadata": {},
          "execution_count": 7
        }
      ]
    },
    {
      "cell_type": "markdown",
      "source": [
        "Now, modify `array_1` into an object that has 32 rows and only 1 column.  \n",
        "Save it under the variable `array_3`."
      ],
      "metadata": {
        "id": "pPrJF4lh4-nU"
      }
    },
    {
      "cell_type": "code",
      "source": [
        "array_3 = array_1.reshape(32, 1)\n",
        "array_3"
      ],
      "metadata": {
        "id": "NUOuSHC-gQj8",
        "colab": {
          "base_uri": "https://localhost:8080/"
        },
        "outputId": "5b099935-1bc0-41e0-9981-b4249f2a6f0c"
      },
      "execution_count": null,
      "outputs": [
        {
          "output_type": "execute_result",
          "data": {
            "text/plain": [
              "array([[10],\n",
              "       [40],\n",
              "       [45],\n",
              "       [ 5],\n",
              "       [66],\n",
              "       [91],\n",
              "       [43],\n",
              "       [75],\n",
              "       [40],\n",
              "       [28],\n",
              "       [55],\n",
              "       [45],\n",
              "       [31],\n",
              "       [71],\n",
              "       [67],\n",
              "       [54],\n",
              "       [54],\n",
              "       [35],\n",
              "       [64],\n",
              "       [27],\n",
              "       [12],\n",
              "       [93],\n",
              "       [17],\n",
              "       [91],\n",
              "       [50],\n",
              "       [57],\n",
              "       [74],\n",
              "       [61],\n",
              "       [86],\n",
              "       [20],\n",
              "       [36],\n",
              "       [35]])"
            ]
          },
          "metadata": {},
          "execution_count": 8
        }
      ]
    },
    {
      "cell_type": "markdown",
      "source": [
        "Access the first element of `array_2`, then of `array_3`.  \n",
        "What do you notice?  \n",
        "Why ?"
      ],
      "metadata": {
        "id": "m1MNZ-G255JC"
      }
    },
    {
      "cell_type": "code",
      "source": [
        "\"\"\"\n",
        "Les deux tableaux, array_2 et array_3, ont des formes différentes.\n",
        "\n",
        "- array_2 a été reshape en 1 ligne et 32 colonnes.\n",
        "- array_3 a été reshape en 32 lignes et 1 colonne.\n",
        "\n",
        "Quand nous accédons au premier élément avec array_2[0],\n",
        "nous obtenons la première ligne, qui contient tous les 32 éléments,\n",
        "car array_2 a une structure de 1 ligne et 32 colonnes.\n",
        "\n",
        "Lorsque nous accédons au premier élément de array_3 avec array_3[0],\n",
        "nous obtenons également la première ligne, mais dans ce cas,\n",
        "la ligne contient seulement 1 élément, car array_3 a une structure de 32 lignes et 1 colonne.\n",
        "\"\"\"\n",
        "print(\"array_2 :\", array_2[0])\n",
        "print(\"array_3 :\", array_3[0])\n"
      ],
      "metadata": {
        "id": "OvdCAGBDgRxL",
        "colab": {
          "base_uri": "https://localhost:8080/"
        },
        "outputId": "ff6d722d-e95f-4aeb-8b01-39571ebd72d5"
      },
      "execution_count": null,
      "outputs": [
        {
          "output_type": "stream",
          "name": "stdout",
          "text": [
            "array_2 : [10 40 45  5 66 91 43 75 40 28 55 45 31 71 67 54 54 35 64 27 12 93 17 91\n",
            " 50 57 74 61 86 20 36 35]\n",
            "array_3 : [10]\n"
          ]
        }
      ]
    },
    {
      "cell_type": "markdown",
      "source": [
        "# Mission 3"
      ],
      "metadata": {
        "id": "zjxwDouC66FZ"
      }
    },
    {
      "cell_type": "markdown",
      "source": [
        "Access the value that is at index 3 of array `array_2`.  \n",
        "Do it with Numpy way, then with Python way."
      ],
      "metadata": {
        "id": "BE6DnozV67pW"
      }
    },
    {
      "cell_type": "code",
      "source": [
        "py_ = array_2[0][3]\n",
        "py_"
      ],
      "metadata": {
        "id": "FlduHmRmgS_v",
        "colab": {
          "base_uri": "https://localhost:8080/"
        },
        "outputId": "6a48a32e-e68b-4441-8eac-74311d404120"
      },
      "execution_count": null,
      "outputs": [
        {
          "output_type": "execute_result",
          "data": {
            "text/plain": [
              "5"
            ]
          },
          "metadata": {},
          "execution_count": 10
        }
      ]
    },
    {
      "cell_type": "markdown",
      "source": [
        "Access the value which is at index 3 of array `array_3` in Numpy."
      ],
      "metadata": {
        "id": "umMUOSLM7y5j"
      }
    },
    {
      "cell_type": "code",
      "source": [
        "np_ = array_2[:, 3]\n",
        "np_"
      ],
      "metadata": {
        "id": "cCcW9LcMgURK",
        "colab": {
          "base_uri": "https://localhost:8080/"
        },
        "outputId": "dd65e740-92a9-42f5-fb8d-ca2aef6b0fcc"
      },
      "execution_count": null,
      "outputs": [
        {
          "output_type": "execute_result",
          "data": {
            "text/plain": [
              "array([5])"
            ]
          },
          "metadata": {},
          "execution_count": 11
        }
      ]
    },
    {
      "cell_type": "markdown",
      "source": [
        "# Mission 4"
      ],
      "metadata": {
        "id": "wDgUXd2GFxTG"
      }
    },
    {
      "cell_type": "markdown",
      "source": [
        "Reshape `array_1` to be a 4-row, 8-column array,\n",
        "rather than a 32-element vector.  \n",
        "Save your array under the variable `array_4`."
      ],
      "metadata": {
        "id": "A9lWaV2MF47x"
      }
    },
    {
      "cell_type": "code",
      "source": [
        "array_4 = array_1.reshape(4, 8)\n",
        "print(array_4)"
      ],
      "metadata": {
        "id": "5xcE1Ao-gVOM",
        "colab": {
          "base_uri": "https://localhost:8080/"
        },
        "outputId": "d5bf550e-a917-4603-987a-5c82cad3764a"
      },
      "execution_count": null,
      "outputs": [
        {
          "output_type": "stream",
          "name": "stdout",
          "text": [
            "[[10 40 45  5 66 91 43 75]\n",
            " [40 28 55 45 31 71 67 54]\n",
            " [54 35 64 27 12 93 17 91]\n",
            " [50 57 74 61 86 20 36 35]]\n"
          ]
        }
      ]
    },
    {
      "cell_type": "markdown",
      "source": [
        "Access for each row, the values ​​of the columns which have the index 1 to 2 included."
      ],
      "metadata": {
        "id": "e7li0x-9HJRj"
      }
    },
    {
      "cell_type": "code",
      "source": [
        "col = array_4[:, 1:3]\n",
        "col"
      ],
      "metadata": {
        "id": "iCTmSBdhgWSy",
        "colab": {
          "base_uri": "https://localhost:8080/"
        },
        "outputId": "75a1efda-7cbb-4aa2-cd30-66dd81379d43"
      },
      "execution_count": null,
      "outputs": [
        {
          "output_type": "execute_result",
          "data": {
            "text/plain": [
              "array([[40, 45],\n",
              "       [28, 55],\n",
              "       [35, 64],\n",
              "       [57, 74]])"
            ]
          },
          "metadata": {},
          "execution_count": 13
        }
      ]
    },
    {
      "cell_type": "markdown",
      "source": [
        "Access for rows at position 1 and 2 inclusive, the values ​​of all columns."
      ],
      "metadata": {
        "id": "dhImhpqRIkfm"
      }
    },
    {
      "cell_type": "code",
      "source": [
        "row = array_4[1:3, :]\n",
        "row"
      ],
      "metadata": {
        "id": "4hNN6Z8egZsH",
        "colab": {
          "base_uri": "https://localhost:8080/"
        },
        "outputId": "b17e1609-5a6d-4f88-f2ad-1f4d4c290aa8"
      },
      "execution_count": null,
      "outputs": [
        {
          "output_type": "execute_result",
          "data": {
            "text/plain": [
              "array([[40, 28, 55, 45, 31, 71, 67, 54],\n",
              "       [54, 35, 64, 27, 12, 93, 17, 91]])"
            ]
          },
          "metadata": {},
          "execution_count": 14
        }
      ]
    },
    {
      "cell_type": "markdown",
      "source": [
        "Access for the rows which have the index 2 to 3 inclusive, to the values ​​of the columns which have the index 3 to 5 inclusive."
      ],
      "metadata": {
        "id": "r74v4LSWIJTS"
      }
    },
    {
      "cell_type": "code",
      "source": [
        "row_i = array_4[2:4, 3:6]\n",
        "row_i"
      ],
      "metadata": {
        "id": "6nHMvCV3ga5z",
        "colab": {
          "base_uri": "https://localhost:8080/"
        },
        "outputId": "16899e12-43c9-4b7d-e743-bf0c3f3c9054"
      },
      "execution_count": null,
      "outputs": [
        {
          "output_type": "execute_result",
          "data": {
            "text/plain": [
              "array([[27, 12, 93],\n",
              "       [61, 86, 20]])"
            ]
          },
          "metadata": {},
          "execution_count": 15
        }
      ]
    },
    {
      "cell_type": "markdown",
      "source": [
        "Select the first column, as well as the columns whose index is a multiple of 2."
      ],
      "metadata": {
        "id": "04wOFcQ7LScR"
      }
    },
    {
      "cell_type": "code",
      "source": [
        "mult_2 = array_4[:, np.where(array_4[0, :] % 2 == 0)[0]]\n",
        "print(mult_2)"
      ],
      "metadata": {
        "id": "3cCJG_uQgb5-",
        "colab": {
          "base_uri": "https://localhost:8080/"
        },
        "outputId": "9165b542-9538-42ba-a433-f1020973dd1e"
      },
      "execution_count": null,
      "outputs": [
        {
          "output_type": "stream",
          "name": "stdout",
          "text": [
            "[[10 40 66]\n",
            " [40 28 31]\n",
            " [54 35 12]\n",
            " [50 57 86]]\n"
          ]
        }
      ]
    },
    {
      "cell_type": "markdown",
      "source": [
        "Select columns whose index is odd."
      ],
      "metadata": {
        "id": "RiB2pjaeL3Fr"
      }
    },
    {
      "cell_type": "code",
      "source": [
        "odd = array_4[:, np.where(array_4[0, :] % 2 == 1)[0]]\n",
        "print(odd)"
      ],
      "metadata": {
        "id": "7XtaV4xGgev1",
        "colab": {
          "base_uri": "https://localhost:8080/"
        },
        "outputId": "3651ed08-824a-41cd-f6b0-1c1da91a1c1f"
      },
      "execution_count": null,
      "outputs": [
        {
          "output_type": "stream",
          "name": "stdout",
          "text": [
            "[[45  5 91 43 75]\n",
            " [55 45 71 67 54]\n",
            " [64 27 93 17 91]\n",
            " [74 61 20 36 35]]\n"
          ]
        }
      ]
    },
    {
      "cell_type": "markdown",
      "source": [
        "# Mission 5"
      ],
      "metadata": {
        "id": "YN3Nm1cnPNbO"
      }
    },
    {
      "cell_type": "markdown",
      "source": [
        "Reshape your `array_1` vector into a 3-dimensional array.\n",
        "Your 3-dimensional array should have 2 matrices, each of which has 4 rows and 4 columns.\n",
        "Save your array under the variable `array_5`."
      ],
      "metadata": {
        "id": "nRqB_vIZPSF_"
      }
    },
    {
      "cell_type": "code",
      "source": [
        "array_5 = np.reshape(array_1, (2, 4, 4))\n",
        "array_5"
      ],
      "metadata": {
        "id": "sZtizWIxgftT",
        "colab": {
          "base_uri": "https://localhost:8080/"
        },
        "outputId": "300f960b-602a-4982-d0be-de9542924d2a"
      },
      "execution_count": null,
      "outputs": [
        {
          "output_type": "execute_result",
          "data": {
            "text/plain": [
              "array([[[10, 40, 45,  5],\n",
              "        [66, 91, 43, 75],\n",
              "        [40, 28, 55, 45],\n",
              "        [31, 71, 67, 54]],\n",
              "\n",
              "       [[54, 35, 64, 27],\n",
              "        [12, 93, 17, 91],\n",
              "        [50, 57, 74, 61],\n",
              "        [86, 20, 36, 35]]])"
            ]
          },
          "metadata": {},
          "execution_count": 18
        }
      ]
    },
    {
      "cell_type": "markdown",
      "source": [
        "Use the .shape attribute to observe the number of axes for `array_5`."
      ],
      "metadata": {
        "id": "c5bKE_q2QVTU"
      }
    },
    {
      "cell_type": "code",
      "source": [
        "array_5.shape"
      ],
      "metadata": {
        "id": "tf6-0qrlggsF",
        "colab": {
          "base_uri": "https://localhost:8080/"
        },
        "outputId": "cd4e9a5b-7fc3-4048-d218-2e1cebaac5ad"
      },
      "execution_count": null,
      "outputs": [
        {
          "output_type": "execute_result",
          "data": {
            "text/plain": [
              "(2, 4, 4)"
            ]
          },
          "metadata": {},
          "execution_count": 19
        }
      ]
    },
    {
      "cell_type": "markdown",
      "source": [
        "Select all values ​​from the first matrix."
      ],
      "metadata": {
        "id": "sk3eOLAxR4p7"
      }
    },
    {
      "cell_type": "code",
      "source": [
        "array_5[0]"
      ],
      "metadata": {
        "id": "kuCkwm2wghrE",
        "colab": {
          "base_uri": "https://localhost:8080/"
        },
        "outputId": "ddba031a-2f2c-4ef2-f4d8-43c174bca851"
      },
      "execution_count": null,
      "outputs": [
        {
          "output_type": "execute_result",
          "data": {
            "text/plain": [
              "array([[10, 40, 45,  5],\n",
              "       [66, 91, 43, 75],\n",
              "       [40, 28, 55, 45],\n",
              "       [31, 71, 67, 54]])"
            ]
          },
          "metadata": {},
          "execution_count": 20
        }
      ]
    },
    {
      "cell_type": "markdown",
      "source": [
        "Access for both matrices,\n",
        "to the values ​​corresponding to the rows at index 1 and to the columns that have positions 3 and 4."
      ],
      "metadata": {
        "id": "JrU1RDIPQhpE"
      }
    },
    {
      "cell_type": "code",
      "source": [
        "array_5[:, 1, 2:4]"
      ],
      "metadata": {
        "id": "9r9PKEExgi8m",
        "colab": {
          "base_uri": "https://localhost:8080/"
        },
        "outputId": "2079fc96-b0b8-4e61-8baa-54e8b2beccb5"
      },
      "execution_count": null,
      "outputs": [
        {
          "output_type": "execute_result",
          "data": {
            "text/plain": [
              "array([[43, 75],\n",
              "       [17, 91]])"
            ]
          },
          "metadata": {},
          "execution_count": 21
        }
      ]
    },
    {
      "cell_type": "markdown",
      "source": [
        "Access row values ​​at positions 2 to 3,\n",
        "columns at indexes 1 to 3 included for the second matrix only."
      ],
      "metadata": {
        "id": "O4Nbgj7zRfm5"
      }
    },
    {
      "cell_type": "code",
      "source": [
        "array_5[1, 1:3, 1:4]"
      ],
      "metadata": {
        "id": "C6M1IAmlgkJA",
        "colab": {
          "base_uri": "https://localhost:8080/"
        },
        "outputId": "1932d24d-d23d-44bb-e9b0-a335723939cf"
      },
      "execution_count": null,
      "outputs": [
        {
          "output_type": "execute_result",
          "data": {
            "text/plain": [
              "array([[93, 17, 91],\n",
              "       [57, 74, 61]])"
            ]
          },
          "metadata": {},
          "execution_count": 25
        }
      ]
    },
    {
      "cell_type": "markdown",
      "source": [
        "\n",
        "Reshape `array_5` so that we have 8 rows and 4 columns."
      ],
      "metadata": {
        "id": "odAFpIAwSB-F"
      }
    },
    {
      "cell_type": "code",
      "source": [
        "res_ = np.reshape(array_5, (8, 4))\n",
        "res_"
      ],
      "metadata": {
        "id": "0OvfG5ffglMa",
        "colab": {
          "base_uri": "https://localhost:8080/"
        },
        "outputId": "5ae5c9f6-75ac-4f81-b7d7-d020b25fd4bf"
      },
      "execution_count": null,
      "outputs": [
        {
          "output_type": "execute_result",
          "data": {
            "text/plain": [
              "array([[10, 40, 45,  5],\n",
              "       [66, 91, 43, 75],\n",
              "       [40, 28, 55, 45],\n",
              "       [31, 71, 67, 54],\n",
              "       [54, 35, 64, 27],\n",
              "       [12, 93, 17, 91],\n",
              "       [50, 57, 74, 61],\n",
              "       [86, 20, 36, 35]])"
            ]
          },
          "metadata": {},
          "execution_count": 23
        }
      ]
    }
  ]
}