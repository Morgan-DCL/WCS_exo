{
  "nbformat": 4,
  "nbformat_minor": 0,
  "metadata": {
    "colab": {
      "provenance": []
    },
    "kernelspec": {
      "name": "python3",
      "display_name": "Python 3"
    }
  },
  "cells": [
    {
      "cell_type": "markdown",
      "metadata": {
        "id": "s6odsFbLpgIh"
      },
      "source": [
        "# NumPy : Introduction\n",
        "\n",
        "**NumPy allows you to manipulate data in the form of an array.**\n",
        "\n",
        "**Complete the missions below using NumPy.**"
      ]
    },
    {
      "cell_type": "code",
      "metadata": {
        "id": "sXzBVR4imVvO",
        "colab": {
          "base_uri": "https://localhost:8080/",
          "height": 36
        },
        "outputId": "73036bbc-e157-4780-9028-640eb5314111"
      },
      "source": [
        "\n",
        "import numpy as np # Here we rename numpy as np, it's shorter, and everybody does that\n",
        "\n",
        "# Mission 1 : Display the version of NumPy you are running (as each library, you can use np.__version__)\n",
        "np.__version__"
      ],
      "execution_count": null,
      "outputs": [
        {
          "output_type": "execute_result",
          "data": {
            "text/plain": [
              "'1.23.5'"
            ],
            "application/vnd.google.colaboratory.intrinsic+json": {
              "type": "string"
            }
          },
          "metadata": {},
          "execution_count": 2
        }
      ]
    },
    {
      "cell_type": "code",
      "metadata": {
        "id": "vQGzQgU-phGc",
        "colab": {
          "base_uri": "https://localhost:8080/"
        },
        "outputId": "cc52bff9-2ae6-4d74-e152-dfcf5876dea4"
      },
      "source": [
        "# Mission 2 : Create a NumPy array with a length of 3, that contains this 3 floats: 0.8, 0.6, 0.4\n",
        "# Expected result: array([0.8, 0.6, 0.4])\n",
        "p = np.array([0.8, 0.6, 0.4])\n",
        "p"
      ],
      "execution_count": null,
      "outputs": [
        {
          "output_type": "execute_result",
          "data": {
            "text/plain": [
              "array([0.8, 0.6, 0.4])"
            ]
          },
          "metadata": {},
          "execution_count": 3
        }
      ]
    },
    {
      "cell_type": "code",
      "metadata": {
        "id": "66-o1bXYqPC_",
        "colab": {
          "base_uri": "https://localhost:8080/"
        },
        "outputId": "ea535423-e406-45f7-ce44-96c822a004f2"
      },
      "source": [
        "# Mission 3 : Create a function that uses the np.random.random() function to return an array with 10 random elements,\n",
        "# all of which must be greater than 0.25 and less than 1.0\n",
        "\n",
        "# Example of expected result: array([0.3897948 , 0.82850041, 0.5499838 , 0.81940137, 0.92175875, 0.89634373, 0.26821861, 0.72376496, 0.81098623, 0.28192741])\n",
        "def random_array():\n",
        "    return 0.25 + np.random.random(10) * 0.75\n",
        "\n",
        "print(random_array())\n"
      ],
      "execution_count": null,
      "outputs": [
        {
          "output_type": "stream",
          "name": "stdout",
          "text": [
            "[0.74144807 0.37060543 0.92164723 0.7491259  0.84106149 0.51109281\n",
            " 0.27810436 0.82121523 0.59788028 0.9980436 ]\n"
          ]
        }
      ]
    },
    {
      "cell_type": "code",
      "metadata": {
        "id": "hx8Ck-neqRZe",
        "colab": {
          "base_uri": "https://localhost:8080/"
        },
        "outputId": "a4d6a61d-054e-41e9-fe40-522771a37c4a"
      },
      "source": [
        "# Mission 4 : What does the np.empty() method do? Don't just copy the documentation, explain in your own words here\n",
        "\"\"\"\n",
        "np.empty retourne un tableau de taille spécifiée sans initialiser les éléments à des valeurs particulières.\n",
        "Cela permet de créer un tableau rapidement sans passer du temps à l'initialiser,\n",
        "mais les éléments du tableau contiendront des valeurs indéfinies issues des résidus de la mémoire.\n",
        "Il faudra donc remplir le tableau avec des valeurs valides avant de l'utiliser.\n",
        "\"\"\"\n",
        "empty_array = np.empty((3, 3))\n",
        "\n",
        "print(empty_array)\n",
        "\n"
      ],
      "execution_count": null,
      "outputs": [
        {
          "output_type": "stream",
          "name": "stdout",
          "text": [
            "[[4.66577776e-310 0.00000000e+000 0.00000000e+000]\n",
            " [0.00000000e+000 0.00000000e+000 0.00000000e+000]\n",
            " [0.00000000e+000 0.00000000e+000 0.00000000e+000]]\n"
          ]
        }
      ]
    },
    {
      "cell_type": "code",
      "metadata": {
        "id": "q_BJsGjwqTQp",
        "colab": {
          "base_uri": "https://localhost:8080/"
        },
        "outputId": "0a194bf9-dd8d-4930-f614-93b8cde844d0"
      },
      "source": [
        "# Mission 5 : Create an array filled with only zeros. You can choose the length of this array.\n",
        "zeros = np.zeros(10)\n",
        "zeros"
      ],
      "execution_count": null,
      "outputs": [
        {
          "output_type": "execute_result",
          "data": {
            "text/plain": [
              "array([0., 0., 0., 0., 0., 0., 0., 0., 0., 0.])"
            ]
          },
          "metadata": {},
          "execution_count": 6
        }
      ]
    },
    {
      "cell_type": "code",
      "metadata": {
        "id": "KhQZPyHhqUql",
        "colab": {
          "base_uri": "https://localhost:8080/"
        },
        "outputId": "49785e96-a9c9-428e-c3d7-a2212a9a913a"
      },
      "source": [
        "# Mission 6 : Create an array filled with 10 random integers.\n",
        "inte = np.random.randint(0, 10, 10)\n",
        "inte"
      ],
      "execution_count": null,
      "outputs": [
        {
          "output_type": "execute_result",
          "data": {
            "text/plain": [
              "array([9, 4, 7, 5, 3, 0, 2, 6, 9, 2])"
            ]
          },
          "metadata": {},
          "execution_count": 7
        }
      ]
    },
    {
      "cell_type": "code",
      "metadata": {
        "id": "v3vqX26BqWTo",
        "colab": {
          "base_uri": "https://localhost:8080/"
        },
        "outputId": "1a95fd8f-5a7d-4bf8-b9ef-31288f748dd4"
      },
      "source": [
        "# Mission 7 : Create an array that contains 50 values randomly selected only from these numbers: 0, 1, 2, 3, 4, 5, 6, 7.\n",
        "rand = np.random.randint(0, 8, 50)\n",
        "rand"
      ],
      "execution_count": null,
      "outputs": [
        {
          "output_type": "execute_result",
          "data": {
            "text/plain": [
              "array([4, 0, 6, 4, 5, 0, 0, 5, 7, 2, 4, 4, 3, 4, 6, 5, 6, 3, 2, 5, 5, 7,\n",
              "       3, 4, 4, 6, 0, 2, 6, 5, 1, 5, 5, 6, 2, 3, 1, 0, 3, 7, 7, 4, 5, 5,\n",
              "       0, 3, 2, 0, 0, 1])"
            ]
          },
          "metadata": {},
          "execution_count": 8
        }
      ]
    }
  ]
}