{
  "cells": [
    {
      "cell_type": "markdown",
      "metadata": {
        "id": "s6odsFbLpgIh"
      },
      "source": [
        "# Monty Hall\n",
        "\n",
        "**Below is an example of an implementation of the Monty Hall game using native Python. It contains no comments.**"
      ]
    },
    {
      "cell_type": "markdown",
      "metadata": {
        "id": "QAqgGziZPsIZ"
      },
      "source": [
        "## Mission 1\n",
        "\n",
        "After reviewing the code below, add both **unilinear** and **multilinear** comments to explain how it works to another developer."
      ]
    },
    {
      "cell_type": "code",
      "execution_count": 2,
      "metadata": {
        "colab": {
          "base_uri": "https://localhost:8080/",
          "height": 265
        },
        "id": "0dL7B4XiO1ft",
        "outputId": "56cd71f5-2fb0-48c2-d362-6a7f6bee409a"
      },
      "outputs": [
        {
          "data": {
            "image/png": "[encoded data removed]",
            "text/plain": [
              "<Figure size 640x480 with 1 Axes>"
            ]
          },
          "metadata": {},
          "output_type": "display_data"
        }
      ],
      "source": [
        "import matplotlib.pyplot as plt\n",
        "from random import choice\n",
        "\n",
        "def play_one_game(strategy):\n",
        "\n",
        "  doors = ['A', 'B', 'C']\n",
        "  correct_door = choice(doors)\n",
        "\n",
        "  first_choice = choice(doors)\n",
        "  doors.remove(first_choice)\n",
        "\n",
        "  while True:\n",
        "    hint_door = choice(doors)\n",
        "    if hint_door != correct_door:\n",
        "      doors.remove(hint_door)\n",
        "      break\n",
        "\n",
        "  if strategy.lower() == \"change\":\n",
        "      second_choice = choice(doors)\n",
        "  elif strategy.lower() == \"keep\":\n",
        "      second_choice = first_choice\n",
        "  else:\n",
        "      raise ValueError(\"Strategy not recognized!\")\n",
        "\n",
        "  return second_choice == correct_door\n",
        "\n",
        "\n",
        "def play_many_games(strategy, nb_turns):\n",
        "    return list(1 if play_one_game(strategy) else 0 for i in range(nb_turns))\n",
        "\n",
        "\n",
        "plot = plt.bar([1, 2],\n",
        "               [sum(play_many_games(\"change\", 10000)), sum(play_many_games(\"keep\", 10000))],\n",
        "               tick_label=[\"Change\", \"Keep\"])"
      ]
    },
    {
      "cell_type": "markdown",
      "metadata": {
        "id": "KPuEESZDP-C-"
      },
      "source": [
        "# Mission 2\n",
        "\n",
        "To make sure you understood the code, in a new cell, change up the code in mission 1 to add a third bar, corresponding to a new strategy called **Alternate**.\n",
        "\n",
        "A player following it will alternate **randomly** between \"Change\" and \"Keep\".\n"
      ]
    },
    {
      "cell_type": "code",
      "execution_count": 3,
      "metadata": {
        "colab": {
          "base_uri": "https://localhost:8080/",
          "height": 430
        },
        "id": "3R82gwZxP9oo",
        "outputId": "0d4bfbf3-cc82-4f06-80ec-a9746d28a1b9"
      },
      "outputs": [
        {
          "data": {
            "image/png": "[encoded data removed]",
            "text/plain": [
              "<Figure size 640x480 with 1 Axes>"
            ]
          },
          "metadata": {},
          "output_type": "display_data"
        }
      ],
      "source": [
        "import matplotlib.pyplot as plt\n",
        "from random import choice\n",
        "import numpy as np\n",
        "\n",
        "def play_one_game(strategy: str) -> bool:\n",
        "    \"\"\"\n",
        "    Simule une partie du jeu des portes en suivant une stratégie donnée.\n",
        "\n",
        "    Parameters\n",
        "    ----------\n",
        "    strategy : str\n",
        "        La stratégie à suivre pour cette partie, qui peut être \"change\" pour changer de porte après l'indice,\n",
        "        ou \"keep\" pour garder la porte initialement choisie.\n",
        "\n",
        "    Returns\n",
        "    -------\n",
        "    bool\n",
        "        Retourne True si la stratégie a mené à une victoire, False sinon.\n",
        "\n",
        "    Raises\n",
        "    ------\n",
        "    ValueError\n",
        "        Levée si la stratégie fournie n'est pas reconnue.\n",
        "    \"\"\"\n",
        "    # Nous initialisons la liste des portes\n",
        "    doors = ['A', 'B', 'C']\n",
        "\n",
        "    # Choisir aleatoirement une porte pour la bonne porte\n",
        "    correct_door = choice(doors)\n",
        "\n",
        "    # Nous choississons aleatoirement une première porte et la supprimons de la liste\n",
        "    first_choice = choice(doors)\n",
        "    doors.remove(first_choice)\n",
        "\n",
        "    # On lance une boucle while et on continue tant que la première porte n'est pas la bonne\n",
        "    # Si nous trouvons la bonne porte alors on sort de la boucle.\n",
        "    while True:\n",
        "        hint_door = choice(doors)\n",
        "        if hint_door != correct_door:\n",
        "            doors.remove(hint_door)\n",
        "        break\n",
        "\n",
        "    # En fonction de la strategy on change ou on garde la première porte\n",
        "    if strategy.lower() == \"change\":\n",
        "        second_choice = choice(doors)\n",
        "    elif strategy.lower() == \"keep\":\n",
        "        second_choice = first_choice\n",
        "    elif strategy.lower() == \"alternate\":\n",
        "        second_choice = choice([choice(doors), first_choice])\n",
        "    else:\n",
        "        # Si la strategy est inconnue alors on leve une erreur\n",
        "        raise ValueError(\"Strategy not recognized!\")\n",
        "\n",
        "    # on retourne le resultat de la partie en boolean (True, False ou 1, 0)\n",
        "    return second_choice == correct_door\n",
        "\n",
        "\n",
        "def play_many_games(strategy: str, nb_turns: int):\n",
        "    \"\"\"\n",
        "    Simulateur de plusieurs parties.\n",
        "\n",
        "    Parameters\n",
        "    ----------\n",
        "    strategy : str\n",
        "        La stratégie à suivre pour ces parties.\n",
        "    nb_turns : int\n",
        "        Le nombre de parties à jouer.\n",
        "\n",
        "    Returns\n",
        "    -------\n",
        "    list\n",
        "        Une liste contenant les résultats de toutes les parties jouées\n",
        "        (1 pour une victoire, 0 pour une défaite).\n",
        "    \"\"\"\n",
        "    # Si play_one_game() renvoi un True (ou un 1 = a une victoire) alors on rentre 1 dans le liste, sinon 0\n",
        "    return list(1 if play_one_game(strategy) else 0 for i in range(nb_turns))\n",
        "\n",
        "\n",
        "# Ici nous ajoutons 1 barre au graphique et nous l'affichons avec pour légende Alternate\n",
        "# et nous utilison numpy pour choisir aleatoirement entre change et keep\n",
        "strategies = [\"Change\", \"Keep\", \"Alternate\"]\n",
        "\n",
        "plot = plt.bar(\n",
        "    [1, 2, 3],\n",
        "    [\n",
        "        sum(play_many_games(stra_, 10000)) for stra_ in strategies\n",
        "    ],\n",
        "    tick_label=strategies\n",
        ")"
      ]
    },
    {
      "cell_type": "markdown",
      "metadata": {
        "id": "VPjKxsbQQbbx"
      },
      "source": [
        "# Mission 3\n",
        "\n",
        "Now, re-code the Monty Hall game using NumPy. **Do not use Python lists, the built-in `random` module, or any for or while loops in the code**. NumPy contains all the mechanisms you need to achieve the same result.\n",
        "\n",
        "Finally, combine the 2 functions, `play_one_game` and `play_many_games`. In other words, **your NumPy program should now contain only one function**. Obviously, **the visual should be the same as in mission 2**."
      ]
    },
    {
      "cell_type": "code",
      "execution_count": 4,
      "metadata": {
        "colab": {
          "base_uri": "https://localhost:8080/",
          "height": 430
        },
        "id": "IwRDK_YtQbre",
        "outputId": "97f181c0-73c5-4f39-9458-475ab27260cb"
      },
      "outputs": [
        {
          "data": {
            "image/png": "[encoded data removed]",
            "text/plain": [
              "<Figure size 640x480 with 1 Axes>"
            ]
          },
          "metadata": {},
          "output_type": "display_data"
        }
      ],
      "source": [
        "import matplotlib.pyplot as plt\n",
        "import numpy as np\n",
        "\n",
        "def play_monty_hall(\n",
        "    strategy: str,\n",
        "    nb_turns: int\n",
        ") -> int:\n",
        "    la_bonne = np.random.randint(0, 3, nb_turns)\n",
        "    premier_choix = np.random.randint(0, 3, nb_turns)\n",
        "\n",
        "    hint_door = np.where(\n",
        "        (la_bonne == premier_choix),\n",
        "        np.random.choice([0, 1, 2], nb_turns) % 3,\n",
        "        (3 - (la_bonne + premier_choix))\n",
        "    )\n",
        "\n",
        "    if strategy.lower() == \"change\":\n",
        "        deuxieme_choix = 3 - (premier_choix + hint_door)\n",
        "        win = np.equal(la_bonne, deuxieme_choix).sum()\n",
        "    elif strategy.lower() == \"keep\":\n",
        "        win = np.equal(la_bonne, premier_choix).sum()\n",
        "    elif strategy.lower() == \"alternate\":\n",
        "        alternate = np.array(['change', 'keep'] * (nb_turns // 2))\n",
        "        if nb_turns % 2:\n",
        "            alternate = np.append(alternate, 'change')\n",
        "\n",
        "        deuxieme_choix = np.where(\n",
        "            alternate == 'change', 3 - (premier_choix + hint_door),\n",
        "            premier_choix\n",
        "        )\n",
        "        win = np.equal(la_bonne, deuxieme_choix).sum()\n",
        "\n",
        "    return win\n",
        "\n",
        "\n",
        "strategies = ['Change', 'Keep', 'Alternate']\n",
        "win_counts = [play_monty_hall(strategy, 10000) for strategy in strategies]\n",
        "\n",
        "plot = plt.bar(\n",
        "    [1, 2, 3],\n",
        "    win_counts,\n",
        "    tick_label=strategies\n",
        ")\n",
        "plt.show()\n"
      ]
    },
    {
      "cell_type": "code",
      "execution_count": 7,
      "metadata": {},
      "outputs": [
        {
          "data": {
            "image/png": "[encoded data removed]",
            "text/plain": [
              "<Figure size 640x480 with 1 Axes>"
            ]
          },
          "metadata": {},
          "output_type": "display_data"
        }
      ],
      "source": [
        "import numpy as np\n",
        "\n",
        "def play_monty_hall(strategy: str, nb_turns: int) -> int:\n",
        "    la_bonne = np.random.randint(0, 3, nb_turns)\n",
        "    premier_choix = np.random.randint(0, 3, nb_turns)\n",
        "\n",
        "    hint_mask = la_bonne == premier_choix\n",
        "    hint_door = np.where(hint_mask, np.random.randint(0, 3, nb_turns), 3 - (la_bonne + premier_choix))\n",
        "\n",
        "    if strategy.lower() == \"alternate\":\n",
        "        strategies = np.array(['change', 'keep'] * (nb_turns // 2))\n",
        "        if nb_turns % 2:\n",
        "            strategies = np.append(strategies, 'change')\n",
        "    else:\n",
        "        strategies = np.array([strategy.lower()] * nb_turns)\n",
        "\n",
        "    deuxieme_choix = np.where(strategies == 'change', 3 - (premier_choix + hint_door), premier_choix)\n",
        "\n",
        "    return np.equal(la_bonne, deuxieme_choix).sum()\n",
        "\n",
        "strategies = ['Change', 'Keep', 'Alternate']\n",
        "win_counts = [play_monty_hall(strategy, 10000) for strategy in strategies]\n",
        "\n",
        "plot = plt.bar(\n",
        "    [1, 2, 3],\n",
        "    win_counts,\n",
        "    tick_label=strategies\n",
        ")\n",
        "plt.show()\n"
      ]
    }
  ],
  "metadata": {
    "colab": {
      "provenance": []
    },
    "kernelspec": {
      "display_name": "Python 3",
      "name": "python3"
    },
    "language_info": {
      "codemirror_mode": {
        "name": "ipython",
        "version": 3
      },
      "file_extension": ".py",
      "mimetype": "text/x-python",
      "name": "python",
      "nbconvert_exporter": "python",
      "pygments_lexer": "ipython3",
      "version": "3.10.11"
    }
  },
  "nbformat": 4,
  "nbformat_minor": 0
}
