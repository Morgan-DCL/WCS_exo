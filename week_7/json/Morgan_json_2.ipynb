{
 "cells": [
  {
   "cell_type": "code",
   "execution_count": 25,
   "metadata": {},
   "outputs": [],
   "source": [
    "import json\n",
    "import requests\n",
    "import pandas as pd\n",
    "\n",
    "link = \"https://raw.githubusercontent.com/WildCodeSchool/java-jsonparse/master/weather.json\"\n",
    "\n",
    "# This function gets the file content from the URL\n",
    "r = requests.get(link)\n",
    "\n",
    "# You can access to the text content with this function\n",
    "r.text\n",
    "\n",
    "data = json.loads( r.text)\n"
   ]
  },
  {
   "cell_type": "code",
   "execution_count": 26,
   "metadata": {},
   "outputs": [
    {
     "data": {
      "text/plain": [
       "{'coord': {'lon': -0.13, 'lat': 51.51},\n",
       " 'weather': [{'id': 300,\n",
       "   'main': 'Drizzle',\n",
       "   'description': 'light intensity drizzle',\n",
       "   'icon': '09d'},\n",
       "  {'id': 800, 'main': 'Clear', 'description': 'clear sky', 'icon': '01n'}],\n",
       " 'base': 'stations',\n",
       " 'main': {'temp': 280.32,\n",
       "  'pressure': 1012,\n",
       "  'humidity': 81,\n",
       "  'temp_min': 279.15,\n",
       "  'temp_max': 281.15},\n",
       " 'visibility': 10000,\n",
       " 'wind': {'speed': 4.1, 'deg': 80},\n",
       " 'clouds': {'all': 90},\n",
       " 'dt': 1485789600,\n",
       " 'sys': {'type': 1,\n",
       "  'id': 5091,\n",
       "  'message': 0.0103,\n",
       "  'country': 'GB',\n",
       "  'sunrise': 1485762037,\n",
       "  'sunset': 1485794875},\n",
       " 'id': 2643743,\n",
       " 'name': 'London',\n",
       " 'cod': 200}"
      ]
     },
     "execution_count": 26,
     "metadata": {},
     "output_type": "execute_result"
    }
   ],
   "source": [
    "data"
   ]
  },
  {
   "cell_type": "code",
   "execution_count": 27,
   "metadata": {},
   "outputs": [
    {
     "name": "stdout",
     "output_type": "stream",
     "text": [
      "City Name: London\n",
      "City latitude: 51.51\n",
      "City longitude: -0.13\n",
      "Weather: Drizzle\n",
      "Weather: Clear\n"
     ]
    }
   ],
   "source": [
    "print(f\"City Name: {data['name']}\")\n",
    "print(f\"City latitude: {data['coord']['lat']}\")\n",
    "print(f\"City longitude: {data['coord']['lon']}\")\n",
    "for n in data[\"weather\"]:\n",
    "    print(f\"Weather: {n['main']}\")\n"
   ]
  },
  {
   "cell_type": "code",
   "execution_count": 42,
   "metadata": {},
   "outputs": [
    {
     "data": {
      "text/html": [
       "<div>\n",
       "<style scoped>\n",
       "    .dataframe tbody tr th:only-of-type {\n",
       "        vertical-align: middle;\n",
       "    }\n",
       "\n",
       "    .dataframe tbody tr th {\n",
       "        vertical-align: top;\n",
       "    }\n",
       "\n",
       "    .dataframe thead th {\n",
       "        text-align: right;\n",
       "    }\n",
       "</style>\n",
       "<table border=\"1\" class=\"dataframe\">\n",
       "  <thead>\n",
       "    <tr style=\"text-align: right;\">\n",
       "      <th></th>\n",
       "      <th>main</th>\n",
       "      <th>name</th>\n",
       "      <th>visibility</th>\n",
       "    </tr>\n",
       "  </thead>\n",
       "  <tbody>\n",
       "    <tr>\n",
       "      <th>0</th>\n",
       "      <td>Drizzle</td>\n",
       "      <td>London</td>\n",
       "      <td>10000</td>\n",
       "    </tr>\n",
       "    <tr>\n",
       "      <th>1</th>\n",
       "      <td>Clear</td>\n",
       "      <td>London</td>\n",
       "      <td>10000</td>\n",
       "    </tr>\n",
       "  </tbody>\n",
       "</table>\n",
       "</div>"
      ],
      "text/plain": [
       "      main    name visibility\n",
       "0  Drizzle  London      10000\n",
       "1    Clear  London      10000"
      ]
     },
     "execution_count": 42,
     "metadata": {},
     "output_type": "execute_result"
    }
   ],
   "source": [
    "# You can directly read JSON from your request object\n",
    "# print(r.json())\n",
    "\n",
    "# And you can import JSON object to pandas\n",
    "df = pd.json_normalize(\n",
    "    r.json(),\n",
    "    record_path=\"weather\",\n",
    "    meta =[\"name\", \"visibility\"]\n",
    ")\n",
    "df = df[['main', 'name', 'visibility']]\n",
    "df"
   ]
  }
 ],
 "metadata": {
  "kernelspec": {
   "display_name": "Python 3",
   "language": "python",
   "name": "python3"
  },
  "language_info": {
   "codemirror_mode": {
    "name": "ipython",
    "version": 3
   },
   "file_extension": ".py",
   "mimetype": "text/x-python",
   "name": "python",
   "nbconvert_exporter": "python",
   "pygments_lexer": "ipython3",
   "version": "3.10.11"
  }
 },
 "nbformat": 4,
 "nbformat_minor": 2
}
