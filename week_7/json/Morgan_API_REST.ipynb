{
 "cells": [
  {
   "cell_type": "code",
   "execution_count": 96,
   "metadata": {},
   "outputs": [],
   "source": [
    "import pandas as pd\n",
    "import requests\n",
    "import pprint"
   ]
  },
  {
   "cell_type": "code",
   "execution_count": 97,
   "metadata": {},
   "outputs": [],
   "source": [
    "link = \"https://data.nantesmetropole.fr/api/records/1.0/search/?dataset=244400404_stations-velos-libre-service-nantes-metropole-disponibilites&q=&facet=banking&facet=bonus&facet=status&facet=contract_name\"\n",
    "link= 'https://data.nantesmetropole.fr/api/explore/v2.1/catalog/datasets/244400404_stations-velos-libre-service-nantes-metropole-disponibilites/records?select=address%2C%20(available_bikes%2Fbike_stands)%20as%20fill_rate&limit=100'\n",
    "\n",
    "r = requests.get(link)\n",
    "data = r.json()"
   ]
  },
  {
   "cell_type": "code",
   "execution_count": 98,
   "metadata": {},
   "outputs": [
    {
     "data": {
      "text/html": [
       "<div>\n",
       "<style scoped>\n",
       "    .dataframe tbody tr th:only-of-type {\n",
       "        vertical-align: middle;\n",
       "    }\n",
       "\n",
       "    .dataframe tbody tr th {\n",
       "        vertical-align: top;\n",
       "    }\n",
       "\n",
       "    .dataframe thead th {\n",
       "        text-align: right;\n",
       "    }\n",
       "</style>\n",
       "<table border=\"1\" class=\"dataframe\">\n",
       "  <thead>\n",
       "    <tr style=\"text-align: right;\">\n",
       "      <th></th>\n",
       "      <th>Adresse</th>\n",
       "      <th>Taux_remplissage</th>\n",
       "    </tr>\n",
       "  </thead>\n",
       "  <tbody>\n",
       "    <tr>\n",
       "      <th>0</th>\n",
       "      <td>4, rue des Carmélites - Place Tirant Lo Blanc</td>\n",
       "      <td>0.000000</td>\n",
       "    </tr>\n",
       "    <tr>\n",
       "      <th>1</th>\n",
       "      <td>Place de la Liberté</td>\n",
       "      <td>0.000000</td>\n",
       "    </tr>\n",
       "    <tr>\n",
       "      <th>2</th>\n",
       "      <td>Place Alexis-Ricordeau - Chaussée de la Madeleine</td>\n",
       "      <td>0.025000</td>\n",
       "    </tr>\n",
       "    <tr>\n",
       "      <th>3</th>\n",
       "      <td>3, boulevard Léon Bureau</td>\n",
       "      <td>0.055556</td>\n",
       "    </tr>\n",
       "    <tr>\n",
       "      <th>4</th>\n",
       "      <td>1, place Saint Similien</td>\n",
       "      <td>0.200000</td>\n",
       "    </tr>\n",
       "    <tr>\n",
       "      <th>5</th>\n",
       "      <td>5, boulevard de Berlin</td>\n",
       "      <td>0.300000</td>\n",
       "    </tr>\n",
       "    <tr>\n",
       "      <th>6</th>\n",
       "      <td>42, boulevard Gabriel Guist'Hau</td>\n",
       "      <td>0.400000</td>\n",
       "    </tr>\n",
       "    <tr>\n",
       "      <th>7</th>\n",
       "      <td>Allée de la Bourse - Boulevard des Nations-Unies</td>\n",
       "      <td>0.409091</td>\n",
       "    </tr>\n",
       "    <tr>\n",
       "      <th>8</th>\n",
       "      <td>Rue de la Loire - place Gaston Defferre</td>\n",
       "      <td>0.636364</td>\n",
       "    </tr>\n",
       "    <tr>\n",
       "      <th>9</th>\n",
       "      <td>9, rue François Albert</td>\n",
       "      <td>1.000000</td>\n",
       "    </tr>\n",
       "  </tbody>\n",
       "</table>\n",
       "</div>"
      ],
      "text/plain": [
       "                                             Adresse  Taux_remplissage\n",
       "0      4, rue des Carmélites - Place Tirant Lo Blanc          0.000000\n",
       "1                                Place de la Liberté          0.000000\n",
       "2  Place Alexis-Ricordeau - Chaussée de la Madeleine          0.025000\n",
       "3                           3, boulevard Léon Bureau          0.055556\n",
       "4                            1, place Saint Similien          0.200000\n",
       "5                             5, boulevard de Berlin          0.300000\n",
       "6                    42, boulevard Gabriel Guist'Hau          0.400000\n",
       "7   Allée de la Bourse - Boulevard des Nations-Unies          0.409091\n",
       "8            Rue de la Loire - place Gaston Defferre          0.636364\n",
       "9                             9, rue François Albert          1.000000"
      ]
     },
     "execution_count": 98,
     "metadata": {},
     "output_type": "execute_result"
    }
   ],
   "source": [
    "df = pd.json_normalize(\n",
    "    data[\"records\"],\n",
    "    sep=\"_\",\n",
    "    record_path=None,\n",
    "    meta=[\n",
    "        [\n",
    "            \"fields\",\n",
    "            \"address\",\n",
    "            \"available_bikes\",\n",
    "            \"bike_stands\"\n",
    "        ],\n",
    "    ]\n",
    ")\n",
    "new_df = df.copy()\n",
    "new_df = new_df[[\"fields_address\", \"fields_available_bikes\", \"fields_bike_stands\"]]\n",
    "new_df[\"Taux_remplissage\"] = new_df[\"fields_available_bikes\"] / new_df[\"fields_bike_stands\"]\n",
    "new_df.rename(columns={\"fields_address\" : \"Adresse\"}, inplace=True)\n",
    "new_df = new_df.drop(columns=[\"fields_available_bikes\", \"fields_bike_stands\"])\n",
    "new_df.sort_values(by=\"Taux_remplissage\").reset_index(drop=\"index\")\n"
   ]
  }
 ],
 "metadata": {
  "kernelspec": {
   "display_name": "Python 3",
   "language": "python",
   "name": "python3"
  },
  "language_info": {
   "codemirror_mode": {
    "name": "ipython",
    "version": 3
   },
   "file_extension": ".py",
   "mimetype": "text/x-python",
   "name": "python",
   "nbconvert_exporter": "python",
   "pygments_lexer": "ipython3",
   "version": "3.10.11"
  }
 },
 "nbformat": 4,
 "nbformat_minor": 2
}
