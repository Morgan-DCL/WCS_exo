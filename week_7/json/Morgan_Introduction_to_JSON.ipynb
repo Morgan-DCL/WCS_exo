{
  "cells": [
    {
      "cell_type": "markdown",
      "metadata": {
        "id": "3gy55VJcTu_4"
      },
      "source": [
        "# Reading a JSON\n",
        "\n",
        "Execute the code below :"
      ]
    },
    {
      "cell_type": "code",
      "execution_count": 1,
      "metadata": {
        "colab": {
          "base_uri": "https://localhost:8080/",
          "height": 213
        },
        "id": "RlpIEaOvTuV2",
        "outputId": "1786a9b0-7489-4670-b7ee-0a144f841dc5"
      },
      "outputs": [
        {
          "data": {
            "text/plain": [
              "'{ \"contents\": [\\n  {\\n    \"category\": \"Furniture\",\\n    \"region\": \"West\",\\n    \"monthlySales\":\\n\\n      [{\\n        \"month\":20130101,\\n        \"sales\":38\\n      },\\n      {\\n        \"month\":20130201,\\n        \"sales\":35\\n      },\\n      {\\n        \"month\":20130301,\\n        \"sales\":41\\n      },\\n      {\\n        \"month\":20130401,\\n        \"sales\":55\\n      },\\n      {\\n        \"month\":20130501,\\n        \"sales\":58\\n      },\\n      {\\n        \"month\":20130601,\\n        \"sales\":66\\n      },\\n      {\\n        \"month\":20130701,\\n        \"sales\":74\\n      },\\n      {\\n        \"month\":20130801,\\n        \"sales\":78\\n      },\\n      {\\n        \"month\":20130901,\\n        \"sales\":38\\n      },\\n      {\\n        \"month\":20131001,\\n        \"sales\":30\\n      },\\n      {\\n        \"month\":20131101,\\n        \"sales\":26\\n      },\\n      {\\n        \"month\":20131201,\\n        \"sales\":29\\n      }\\n    ]\\n  },\\n  {\\n    \"category\": \"Technology\",\\n    \"region\": \"West\",\\n    \"monthlySales\":\\n\\n      [{\\n        \"month\":20130101,\\n        \"sales\":54\\n      },\\n      {\\n        \"month\":20130201,\\n        \"sales\":66\\n      },\\n      {\\n        \"month\":20130301,\\n        \"sales\":77\\n      },\\n      {\\n        \"month\":20130401,\\n        \"sales\":70\\n      },\\n      {\\n        \"month\":20130501,\\n        \"sales\":60\\n      },\\n      {\\n        \"month\":20130601,\\n        \"sales\":63\\n      },\\n      {\\n        \"month\":20130701,\\n        \"sales\":55\\n      },\\n      {\\n        \"month\":20130801,\\n        \"sales\":47\\n      },\\n      {\\n        \"month\":20130901,\\n        \"sales\":55\\n      },\\n      {\\n        \"month\":20131001,\\n        \"sales\":30\\n      },\\n      {\\n        \"month\":20131101,\\n        \"sales\":22\\n      },\\n      {\\n        \"month\":20131201,\\n        \"sales\":77\\n      }\\n    ]\\n  }\\n]} \\n'"
            ]
          },
          "execution_count": 1,
          "metadata": {},
          "output_type": "execute_result"
        }
      ],
      "source": [
        "import json\n",
        "import requests\n",
        "\n",
        "link = \"https://raw.githubusercontent.com/murpi/wilddata/master/quests/monthlySalesbyCategoryMultiple.json\"\n",
        "\n",
        "# This function gets the file content from the URL\n",
        "r = requests.get(link)\n",
        "\n",
        "\n",
        "# You can access to the text content with this function\n",
        "r.text"
      ]
    },
    {
      "cell_type": "code",
      "execution_count": 2,
      "metadata": {
        "colab": {
          "base_uri": "https://localhost:8080/",
          "height": 514
        },
        "id": "q9YwmpYMTr1n",
        "outputId": "6267ea2b-408b-4f27-fd6b-1f9481217b8e"
      },
      "outputs": [
        {
          "data": {
            "text/plain": [
              "{'contents': [{'category': 'Furniture',\n",
              "   'region': 'West',\n",
              "   'monthlySales': [{'month': 20130101, 'sales': 38},\n",
              "    {'month': 20130201, 'sales': 35},\n",
              "    {'month': 20130301, 'sales': 41},\n",
              "    {'month': 20130401, 'sales': 55},\n",
              "    {'month': 20130501, 'sales': 58},\n",
              "    {'month': 20130601, 'sales': 66},\n",
              "    {'month': 20130701, 'sales': 74},\n",
              "    {'month': 20130801, 'sales': 78},\n",
              "    {'month': 20130901, 'sales': 38},\n",
              "    {'month': 20131001, 'sales': 30},\n",
              "    {'month': 20131101, 'sales': 26},\n",
              "    {'month': 20131201, 'sales': 29}]},\n",
              "  {'category': 'Technology',\n",
              "   'region': 'West',\n",
              "   'monthlySales': [{'month': 20130101, 'sales': 54},\n",
              "    {'month': 20130201, 'sales': 66},\n",
              "    {'month': 20130301, 'sales': 77},\n",
              "    {'month': 20130401, 'sales': 70},\n",
              "    {'month': 20130501, 'sales': 60},\n",
              "    {'month': 20130601, 'sales': 63},\n",
              "    {'month': 20130701, 'sales': 55},\n",
              "    {'month': 20130801, 'sales': 47},\n",
              "    {'month': 20130901, 'sales': 55},\n",
              "    {'month': 20131001, 'sales': 30},\n",
              "    {'month': 20131101, 'sales': 22},\n",
              "    {'month': 20131201, 'sales': 77}]}]}"
            ]
          },
          "execution_count": 2,
          "metadata": {},
          "output_type": "execute_result"
        }
      ],
      "source": [
        "# Try this\n",
        "import json\n",
        "\n",
        "data = json.loads( r.text)\n",
        "data"
      ]
    },
    {
      "cell_type": "markdown",
      "metadata": {
        "id": "uogPKCrpZe1s"
      },
      "source": [
        "# Manipulate the data"
      ]
    },
    {
      "cell_type": "markdown",
      "metadata": {
        "id": "r1hWtHV3Yj0r"
      },
      "source": [
        "Now print for each category their total number of sales (without using a dataframe, just manipulating the dictionaries and lists).\n",
        "\n",
        "Expected result:\n",
        "- Furniture 568\n",
        "- Technology 676\n",
        "\n"
      ]
    },
    {
      "cell_type": "code",
      "execution_count": 50,
      "metadata": {
        "id": "SI-uCLddYWpk"
      },
      "outputs": [
        {
          "name": "stdout",
          "output_type": "stream",
          "text": [
            "Furniture : 568\n",
            "Technology : 676\n"
          ]
        }
      ],
      "source": [
        "info = {\n",
        "    \"Furniture\" : 0,\n",
        "    \"Technology\": 0\n",
        "}\n",
        "for n in data[\"contents\"]:\n",
        "    cat = n[\"category\"]\n",
        "    for sales in n[\"monthlySales\"]:\n",
        "        info[cat] += sales[\"sales\"]\n",
        "\n",
        "print(f\"Furniture : {info['Furniture']}\")\n",
        "print(f\"Technology : {info['Technology']}\")"
      ]
    }
  ],
  "metadata": {
    "colab": {
      "provenance": []
    },
    "kernelspec": {
      "display_name": "Python 3",
      "name": "python3"
    },
    "language_info": {
      "codemirror_mode": {
        "name": "ipython",
        "version": 3
      },
      "file_extension": ".py",
      "mimetype": "text/x-python",
      "name": "python",
      "nbconvert_exporter": "python",
      "pygments_lexer": "ipython3",
      "version": "3.10.11"
    }
  },
  "nbformat": 4,
  "nbformat_minor": 0
}
