{
 "cells": [
  {
   "cell_type": "code",
   "execution_count": null,
   "metadata": {},
   "outputs": [],
   "source": [
    "# Crée un notebook sur Google Colab, et essaye de réaliser chacune des missions suivantes avec une syntaxe classique et ensuite avec une syntaxe courte en une seule ligne.\n",
    "\n",
    "# Une fonction qui convertit des montants en dollars vers des montants en euros (prends le cours euro/dollar du jour où tu fais la quête).\n",
    "# Une fonction qui renvoie la somme des nombres pairs présents dans une liste contenant des nombres entiers.\n",
    "# Une fonction qui convertit une liste de nombres entiers positifs ou négatifs) en une nouvelle liste contenant leurs valeurs absolues.\n",
    "# Tu peux prendre la liste suivante pour exemple :\n",
    "# test_list = [0, 3, -6, 9, 12, -15, 18, -21, 24, 27]\n"
   ]
  },
  {
   "cell_type": "code",
   "execution_count": 7,
   "metadata": {},
   "outputs": [
    {
     "data": {
      "text/plain": [
       "95.0"
      ]
     },
     "execution_count": 7,
     "metadata": {},
     "output_type": "execute_result"
    }
   ],
   "source": [
    "euro = 100\n",
    "dollar = 0.95\n",
    "\n",
    "convert = lambda x: x*dollar\n",
    "convert(euro)"
   ]
  },
  {
   "cell_type": "code",
   "execution_count": 10,
   "metadata": {},
   "outputs": [
    {
     "data": {
      "text/plain": [
       "48"
      ]
     },
     "execution_count": 10,
     "metadata": {},
     "output_type": "execute_result"
    }
   ],
   "source": [
    "test_list = [0, 3, -6, 9, 12, -15, 18, -21, 24, 27]\n",
    "\n",
    "n = sum([x for x in test_list if x % 2 == 0])\n",
    "n"
   ]
  },
  {
   "cell_type": "code",
   "execution_count": 12,
   "metadata": {},
   "outputs": [
    {
     "data": {
      "text/plain": [
       "[0, 3, 6, 9, 12, 15, 18, 21, 24, 27]"
      ]
     },
     "execution_count": 12,
     "metadata": {},
     "output_type": "execute_result"
    }
   ],
   "source": [
    "n = [abs(x) for x in test_list]\n",
    "n"
   ]
  }
 ],
 "metadata": {
  "kernelspec": {
   "display_name": "Python 3",
   "language": "python",
   "name": "python3"
  },
  "language_info": {
   "codemirror_mode": {
    "name": "ipython",
    "version": 3
   },
   "file_extension": ".py",
   "mimetype": "text/x-python",
   "name": "python",
   "nbconvert_exporter": "python",
   "pygments_lexer": "ipython3",
   "version": "3.10.11"
  }
 },
 "nbformat": 4,
 "nbformat_minor": 2
}
