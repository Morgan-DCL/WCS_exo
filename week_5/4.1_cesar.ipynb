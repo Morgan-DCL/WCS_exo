{
 "cells": [
  {
   "cell_type": "code",
   "execution_count": 5,
   "metadata": {},
   "outputs": [
    {
     "name": "stdout",
     "output_type": "stream",
     "text": [
      "Felicitations, cesar serait fier de toi, si seulement il connaissait python\n"
     ]
    }
   ],
   "source": [
    "import string\n",
    "\n",
    "def cesar_crypto(\n",
    "    crypted: str,\n",
    "    encryption: int = 7\n",
    ") -> str:\n",
    "    alph = list(string.ascii_lowercase[::-1])\n",
    "    return \"\".join(\n",
    "        [\n",
    "            (alph[(alph.index(l) + encryption) % len(alph)]) if\n",
    "            l in alph else\n",
    "            l for l in crypted.strip()\n",
    "        ]\n",
    "    ).capitalize()\n",
    "\n",
    "encryption = 7\n",
    "crypted = \"mlspjpahapvuz, jlzhy zlyhpa mply kl avp, zp zlbsltlua ps jvuuhpzzhpa wfaovu\"\n",
    "\n",
    "print(cesar_crypto(crypted, encryption))\n"
   ]
  }
 ],
 "metadata": {
  "kernelspec": {
   "display_name": "Python 3",
   "language": "python",
   "name": "python3"
  },
  "language_info": {
   "codemirror_mode": {
    "name": "ipython",
    "version": 3
   },
   "file_extension": ".py",
   "mimetype": "text/x-python",
   "name": "python",
   "nbconvert_exporter": "python",
   "pygments_lexer": "ipython3",
   "version": "3.10.11"
  }
 },
 "nbformat": 4,
 "nbformat_minor": 2
}
