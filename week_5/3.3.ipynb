{
  "cells": [
    {
      "cell_type": "markdown",
      "metadata": {
        "id": "co2X9cGIieV0"
      },
      "source": [
        "# Help for statisticians!\n",
        "\n",
        "Your fellow statisticians need you. They want to learn how to program in Python and have tons of calculations to do.\n",
        "\n",
        "Very kindly, you agree to help them. Complete the missions below.\n",
        "\n"
      ]
    },
    {
      "cell_type": "markdown",
      "metadata": {
        "id": "CLFkEk_Fm9d4"
      },
      "source": [
        "### For all functions below, please add an extra cell where you actually call the function on at least two different inputs and displays the returned value (if the function doesn't already display stuff)."
      ]
    },
    {
      "cell_type": "code",
      "execution_count": null,
      "metadata": {
        "colab": {
          "base_uri": "https://localhost:8080/"
        },
        "id": "pIoUqiKynBbe",
        "outputId": "f4caac18-670a-4109-e91d-af496fb066bc"
      },
      "outputs": [
        {
          "name": "stdout",
          "output_type": "stream",
          "text": [
            "lundi\n"
          ]
        }
      ],
      "source": [
        "# Mission 9: Create a function that takes a day as a parameter and returns the next day (i.e. for Sunday it would return Monday).\n",
        "# You can use lists or dictionaries to solve this.\n",
        "\n",
        "def next_day(day: str = 'dimanche') -> str:\n",
        "    day = day.lower()\n",
        "    week = [\n",
        "        \"lundi\",\n",
        "        \"mardi\",\n",
        "        \"mercredi\",\n",
        "        \"jeudi\",\n",
        "        \"vendredi\",\n",
        "        \"samedi\",\n",
        "        \"dimanche\"\n",
        "    ]\n",
        "    if day not in week:\n",
        "        return f\"Erreur, {day} n'est pas un jour de la semaine.\"\n",
        "    return week[(week.index(day) + 1) % 7]\n",
        "\n",
        "\n",
        "print(next_day(\"DIMANCHE\"))"
      ]
    },
    {
      "cell_type": "code",
      "execution_count": null,
      "metadata": {
        "colab": {
          "base_uri": "https://localhost:8080/"
        },
        "id": "68rX-Y0AnGiR",
        "outputId": "e5747fc6-4663-4ce0-88cc-ee71728fb1ce"
      },
      "outputs": [
        {
          "data": {
            "text/plain": [
              "['After',\n",
              " 'twelve',\n",
              " 'soft',\n",
              " 'showers',\n",
              " 'are',\n",
              " 'the',\n",
              " 'arch-duchess',\n",
              " 'socks',\n",
              " 'dry',\n",
              " 'arch-dry']"
            ]
          },
          "execution_count": 5,
          "metadata": {},
          "output_type": "execute_result"
        }
      ],
      "source": [
        "# Mission 10: Create a function that fills an empty list with values (words) from the following string :\n",
        "# \"After twelve soft showers are the arch-duchess' socks dry, arch-dry?\"\n",
        "\n",
        "\n",
        "def convert_list(string: str) -> list:\n",
        "    return [\n",
        "        n.rstrip(\"',?\") for n in string.split()\n",
        "    ]\n",
        "\n",
        "new_list = \"After twelve soft showers are the arch-duchess' socks dry, arch-dry?\"\n",
        "convert_list(new_list)"
      ]
    },
    {
      "cell_type": "code",
      "execution_count": null,
      "metadata": {
        "colab": {
          "base_uri": "https://localhost:8080/"
        },
        "id": "YGNoBYBEnLAx",
        "outputId": "d68c3fb1-997f-48a4-aeab-e0531723c1e8"
      },
      "outputs": [
        {
          "name": "stdout",
          "output_type": "stream",
          "text": [
            "AntithEtIcAl, marvElOuslY\n"
          ]
        }
      ],
      "source": [
        "# Mission 11: Create a function that takes a string as a parameter, and returns\n",
        "# the same string, where every other letter\n",
        "# is written in uppercase, unless it's a consonant.\n",
        "# Example: antithetical -> AntithEtIcAl\n",
        "# Example: marvelously -> marvElOuslY\n",
        "\n",
        "def invert_vowels(word: str) -> str:\n",
        "    vowels = [\"a\", \"e\", \"i\", \"o\", \"u\", \"y\"]\n",
        "    return \"\".join(\n",
        "        [\n",
        "            l.upper() if i % 2 == 0 and\n",
        "            l.lower() in vowels else\n",
        "            l.lower() for i, l in enumerate(word)\n",
        "        ]\n",
        "    )\n",
        "\n",
        "\n",
        "test = \"antithetical, marvelously\"\n",
        "print(invert_vowels(test))"
      ]
    },
    {
      "cell_type": "code",
      "execution_count": null,
      "metadata": {
        "colab": {
          "base_uri": "https://localhost:8080/"
        },
        "id": "IJCr_jvwnOCh",
        "outputId": "8e1f5629-1111-4db5-b36f-fb6d6aecaca2"
      },
      "outputs": [
        {
          "data": {
            "text/plain": [
              "[[[], [], [], [], []],\n",
              " [[], [], [], [], []],\n",
              " [[], [], [], [], []],\n",
              " [[], [], [], [], []],\n",
              " [[], [], [], [], []]]"
            ]
          },
          "execution_count": 21,
          "metadata": {},
          "output_type": "execute_result"
        }
      ],
      "source": [
        "# Mission 12: Create a function that takes a number n as parameter, and then returns a list containing n lists, each containing n empty lists.\n",
        "\n",
        "def lists_creator(n: int) -> list[list[list]]:\n",
        "    return [\n",
        "        [[] for a in range(n)] for b in range(n)\n",
        "    ]\n",
        "\n",
        "n = 5\n",
        "lists_creator(n)"
      ]
    },
    {
      "cell_type": "code",
      "execution_count": null,
      "metadata": {
        "colab": {
          "base_uri": "https://localhost:8080/"
        },
        "id": "xjYGsODEnSb2",
        "outputId": "9b6bace0-79e6-4a37-e21e-ab4fc17c38c6"
      },
      "outputs": [
        {
          "name": "stdout",
          "output_type": "stream",
          "text": [
            "What's you birthday year?\n",
            "1987\n",
            "--------------------\n",
            "Whats your name ?\n",
            "Morgan\n",
            "--------------------\n",
            "Hello Morgan, today you are (or you will be this year) 36 years old.\n"
          ]
        }
      ],
      "source": [
        "# Mission 13: Create a function that takes two inputs, their year of birth and first name.\n",
        "# Convert the year of birth into an int and subtract it from the current year (you can do it using a certain module :-P).\n",
        "# Then display the message: Hello [first name], today you are (or you will be this year) [age] years old.\n",
        "# When testing the function, ask the user for the parameters!\n",
        "\n",
        "from datetime import datetime\n",
        "\n",
        "def birthday(year: str, name: str) -> str:\n",
        "    return (\n",
        "        f\"Hello {name}, today you are (or you will be this year) \"+\n",
        "        f\"{datetime.now().year - int(year)} years old.\"\n",
        "    )\n",
        "\n",
        "\n",
        "birthday_date = input(\"What's you birthday year?\\n\")\n",
        "print(\"-\"*20)\n",
        "name = input(\"Whats your name ?\\n\")\n",
        "print(\"-\"*20)\n",
        "print(birthday(birthday_date, name))"
      ]
    }
  ],
  "metadata": {
    "colab": {
      "provenance": []
    },
    "kernelspec": {
      "display_name": "Python 3",
      "name": "python3"
    }
  },
  "nbformat": 4,
  "nbformat_minor": 0
}
