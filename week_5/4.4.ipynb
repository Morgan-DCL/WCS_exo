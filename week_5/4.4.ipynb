{
  "cells": [
    {
      "cell_type": "markdown",
      "metadata": {
        "id": "ZU6qSUveywPs"
      },
      "source": [
        "You must correct each of the scripts below **using exception handling** and **without modifying lists**."
      ]
    },
    {
      "cell_type": "markdown",
      "metadata": {
        "id": "PcSLELHnzb-X"
      },
      "source": [
        "Script number 1"
      ]
    },
    {
      "cell_type": "code",
      "execution_count": 19,
      "metadata": {
        "id": "IAZK21ekypZP"
      },
      "outputs": [
        {
          "name": "stdout",
          "output_type": "stream",
          "text": [
            "1.0\n",
            "0.08333333333333333\n",
            "-0.022222222222222223\n",
            "0.16666666666666666\n",
            "0.037037037037037035\n",
            "La division par zéro n'est pas autorisée.\n",
            "0.041666666666666664\n"
          ]
        }
      ],
      "source": [
        "\n",
        "list_integers = [1, 12, -45, 6, 27, 0, 24]\n",
        "for i in list_integers:\n",
        "    try:\n",
        "        print(1/i)\n",
        "    except ZeroDivisionError:\n",
        "        print(\"La division par zéro n'est pas autorisée.\")"
      ]
    },
    {
      "cell_type": "markdown",
      "metadata": {
        "id": "LeIVc9eqzezV"
      },
      "source": [
        "Script number 2"
      ]
    },
    {
      "cell_type": "code",
      "execution_count": 22,
      "metadata": {
        "id": "L6DRkiD6zgy_"
      },
      "outputs": [
        {
          "name": "stdout",
          "output_type": "stream",
          "text": [
            "1.0\n",
            "0.08333333333333333\n",
            "-0.022222222222222223\n",
            "0.16666666666666666\n",
            "0.037037037037037035\n",
            "0.041666666666666664\n",
            "Index hors limites.\n",
            "Index hors limites.\n",
            "Index hors limites.\n",
            "Index hors limites.\n"
          ]
        }
      ],
      "source": [
        "list_integers = [1, 12, -45, 6, 27, 24]\n",
        "for i in range(10):\n",
        "    try:\n",
        "        print(1/list_integers[i])\n",
        "    except IndexError:\n",
        "        print(\"Index hors limites.\")\n",
        "    except ZeroDivisionError:\n",
        "        print(\"La division par zéro n'est pas autorisée.\")"
      ]
    },
    {
      "cell_type": "markdown",
      "metadata": {
        "id": "afAY9AmOzx9r"
      },
      "source": [
        "Script number 3"
      ]
    },
    {
      "cell_type": "code",
      "execution_count": 21,
      "metadata": {
        "id": "wV3ALP3yzzcc"
      },
      "outputs": [
        {
          "name": "stdout",
          "output_type": "stream",
          "text": [
            "1.0\n",
            "0.08333333333333333\n",
            "-0.022222222222222223\n",
            "0.16666666666666666\n",
            "0.037037037037037035\n",
            "La division par zéro n'est pas autorisée.\n",
            "0.041666666666666664\n",
            "Index hors limites.\n",
            "Index hors limites.\n",
            "Index hors limites.\n"
          ]
        }
      ],
      "source": [
        "list_integers = [1, 12, -45, 6, 27, 0, 24]\n",
        "for i in range(10):\n",
        "    try:\n",
        "        print(1/list_integers[i])\n",
        "    except IndexError:\n",
        "        print(\"Index hors limites.\")\n",
        "    except ZeroDivisionError:\n",
        "        print(\"La division par zéro n'est pas autorisée.\")"
      ]
    },
    {
      "cell_type": "markdown",
      "metadata": {
        "id": "8eX8Pj7Wz4rn"
      },
      "source": [
        "Script number 4"
      ]
    },
    {
      "cell_type": "code",
      "execution_count": 20,
      "metadata": {
        "id": "miobIaTyz62H"
      },
      "outputs": [
        {
          "name": "stdout",
          "output_type": "stream",
          "text": [
            "HELLO\n",
            "GOOD MORNING\n",
            "GOOD EVENING\n",
            "L'élément n'est pas une chaîne et ne peut être converti en majuscules.\n",
            "BYE\n"
          ]
        }
      ],
      "source": [
        "list_words = ['hello', 'good morning', 'GOOD Evening', 34, 'Bye']\n",
        "for word in list_words:\n",
        "    try:\n",
        "        print(word.upper())\n",
        "    except AttributeError:\n",
        "        print(\"Le type ne peut être convertie.\")\n"
      ]
    }
  ],
  "metadata": {
    "colab": {
      "provenance": []
    },
    "kernelspec": {
      "display_name": "Python 3",
      "name": "python3"
    },
    "language_info": {
      "codemirror_mode": {
        "name": "ipython",
        "version": 3
      },
      "file_extension": ".py",
      "mimetype": "text/x-python",
      "name": "python",
      "nbconvert_exporter": "python",
      "pygments_lexer": "ipython3",
      "version": "3.10.11"
    }
  },
  "nbformat": 4,
  "nbformat_minor": 0
}
